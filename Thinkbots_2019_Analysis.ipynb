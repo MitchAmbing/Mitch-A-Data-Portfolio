{
 "cells": [
  {
   "cell_type": "markdown",
   "metadata": {},
   "source": [
    "# Part 1 - ThinkRobots: Marketing Campaign Efficiency"
   ]
  },
  {
   "cell_type": "markdown",
   "metadata": {},
   "source": [
    "### In this notebook I have already done some data preprocessing in the csv's to check for data cleanliness, remove nulls, check for and amalgamate duplicates and ensure analysis can be performed without any issues."
   ]
  },
  {
   "cell_type": "markdown",
   "metadata": {},
   "source": [
    "**NOTE Account AX#33896 was the only duplicate that had an instance of paying and cancelled. Since its oldest start date is the current paying/active account I amalgamated the other charge instances into that account.**"
   ]
  },
  {
   "cell_type": "code",
   "execution_count": 1,
   "metadata": {},
   "outputs": [
    {
     "name": "stdout",
     "output_type": "stream",
     "text": [
      "Populating the interactive namespace from numpy and matplotlib\n"
     ]
    }
   ],
   "source": [
    "import pandas as pd\n",
    "import numpy as np\n",
    "import seaborn as sns\n",
    "from scipy import stats\n",
    "from seaborn import pairplot, heatmap\n",
    "import matplotlib.pyplot as plt\n",
    "%pylab inline\n",
    "import warnings\n",
    "warnings.filterwarnings('ignore')"
   ]
  },
  {
   "cell_type": "code",
   "execution_count": 2,
   "metadata": {},
   "outputs": [],
   "source": [
    "cx_segments_df = pd.read_csv('/Users/mitchellambing/desktop/customer_segments.csv', encoding='latin-1')\n",
    "cx_names_df = pd.read_csv('/Users/mitchellambing/desktop/cust_names.csv', encoding='latin-1')\n",
    "billing_df = pd.read_csv('/Users/mitchellambing/desktop/billing_status.csv', encoding='latin-1')\n",
    "product_change_df = pd.read_csv('/Users/mitchellambing/desktop/major_product_changes.csv', encoding='latin-1')"
   ]
  },
  {
   "cell_type": "code",
   "execution_count": 3,
   "metadata": {},
   "outputs": [
    {
     "data": {
      "text/plain": [
       "Marketing Segment 2    402\n",
       "Marketing Segment 3    344\n",
       "Marketing Segment 1    254\n",
       "Name: Segment, dtype: int64"
      ]
     },
     "execution_count": 3,
     "metadata": {},
     "output_type": "execute_result"
    }
   ],
   "source": [
    "cx_segments_df['Segment'].value_counts()"
   ]
  },
  {
   "cell_type": "code",
   "execution_count": 4,
   "metadata": {},
   "outputs": [
    {
     "data": {
      "image/png": "[encoded data removed]",
      "text/plain": [
       "<Figure size 432x288 with 1 Axes>"
      ]
     },
     "metadata": {},
     "output_type": "display_data"
    }
   ],
   "source": [
    "labels = 'Marketing Segment 2', 'Marketing Segment 3', 'Marketing Segment 1'\n",
    "sizes = [cx_segments_df[\"Segment\"].value_counts()]\n",
    "explode = (0, 0.25, 0)\n",
    "\n",
    "fig1, ax1 = plt.subplots()\n",
    "ax1.pie(sizes, explode=explode, labels=labels, autopct='%1.1f%%',\n",
    "        shadow=True, startangle=90)\n",
    "ax1.axis('equal')\n",
    "plt.show()"
   ]
  },
  {
   "cell_type": "markdown",
   "metadata": {},
   "source": [
    "Right off the cuff we can see that 40.2% of our users fall into Segment 2, so because that is our largest bucket hopefully we can see strong results from it."
   ]
  },
  {
   "cell_type": "code",
   "execution_count": 5,
   "metadata": {},
   "outputs": [
    {
     "data": {
      "text/plain": [
       "paying       872\n",
       "cancelled    121\n",
       "Name: Account Status, dtype: int64"
      ]
     },
     "execution_count": 5,
     "metadata": {},
     "output_type": "execute_result"
    }
   ],
   "source": [
    "billing_df['Account Status'].value_counts()"
   ]
  },
  {
   "cell_type": "markdown",
   "metadata": {},
   "source": [
    "In our whole dataset we have 872 paying users and 127 that have cancelled, so later we will look into retention cohorts to see how this is affected in our Segments."
   ]
  },
  {
   "cell_type": "code",
   "execution_count": 6,
   "metadata": {},
   "outputs": [],
   "source": [
    "cs_merge = pd.merge(cx_segments_df, billing_df, how='left', on='Billing Account #')"
   ]
  },
  {
   "cell_type": "code",
   "execution_count": 7,
   "metadata": {},
   "outputs": [],
   "source": [
    "final_df = pd.merge(cx_names_df, cs_merge, how='left', on='Customer ID')\n",
    "final_df = final_df[['Customer ID', 'First Name', 'Free Account Created Date', 'Last Seen', 'Session Count', 'Segment', \n",
    "                    'Billing Account #', 'Account Status', 'Upgraded Account Created Date', \n",
    "                     'Upgraded Account Cancelled Date', 'Total Charges']]"
   ]
  },
  {
   "cell_type": "code",
   "execution_count": 8,
   "metadata": {},
   "outputs": [
    {
     "data": {
      "text/html": [
       "<div>\n",
       "<style scoped>\n",
       "    .dataframe tbody tr th:only-of-type {\n",
       "        vertical-align: middle;\n",
       "    }\n",
       "\n",
       "    .dataframe tbody tr th {\n",
       "        vertical-align: top;\n",
       "    }\n",
       "\n",
       "    .dataframe thead th {\n",
       "        text-align: right;\n",
       "    }\n",
       "</style>\n",
       "<table border=\"1\" class=\"dataframe\">\n",
       "  <thead>\n",
       "    <tr style=\"text-align: right;\">\n",
       "      <th></th>\n",
       "      <th>Customer ID</th>\n",
       "      <th>First Name</th>\n",
       "      <th>Free Account Created Date</th>\n",
       "      <th>Last Seen</th>\n",
       "      <th>Session Count</th>\n",
       "      <th>Segment</th>\n",
       "      <th>Billing Account #</th>\n",
       "      <th>Account Status</th>\n",
       "      <th>Upgraded Account Created Date</th>\n",
       "      <th>Upgraded Account Cancelled Date</th>\n",
       "      <th>Total Charges</th>\n",
       "    </tr>\n",
       "  </thead>\n",
       "  <tbody>\n",
       "    <tr>\n",
       "      <th>0</th>\n",
       "      <td>1</td>\n",
       "      <td>Joshua</td>\n",
       "      <td>5/29/2017</td>\n",
       "      <td>4/5/2019</td>\n",
       "      <td>1379</td>\n",
       "      <td>Marketing Segment 2</td>\n",
       "      <td>AX#93195</td>\n",
       "      <td>paying</td>\n",
       "      <td>4/2/2019</td>\n",
       "      <td>NaN</td>\n",
       "      <td>145.6</td>\n",
       "    </tr>\n",
       "    <tr>\n",
       "      <th>1</th>\n",
       "      <td>2</td>\n",
       "      <td>Ka</td>\n",
       "      <td>12/17/2017</td>\n",
       "      <td>4/27/2019</td>\n",
       "      <td>531</td>\n",
       "      <td>Marketing Segment 1</td>\n",
       "      <td>AX#20438</td>\n",
       "      <td>paying</td>\n",
       "      <td>11/11/2018</td>\n",
       "      <td>NaN</td>\n",
       "      <td>728.0</td>\n",
       "    </tr>\n",
       "    <tr>\n",
       "      <th>2</th>\n",
       "      <td>3</td>\n",
       "      <td>Clint</td>\n",
       "      <td>1/30/2017</td>\n",
       "      <td>4/22/2019</td>\n",
       "      <td>317</td>\n",
       "      <td>Marketing Segment 1</td>\n",
       "      <td>AX#60779</td>\n",
       "      <td>paying</td>\n",
       "      <td>3/15/2019</td>\n",
       "      <td>NaN</td>\n",
       "      <td>277.2</td>\n",
       "    </tr>\n",
       "  </tbody>\n",
       "</table>\n",
       "</div>"
      ],
      "text/plain": [
       "   Customer ID First Name Free Account Created Date  Last Seen  Session Count  \\\n",
       "0            1     Joshua                 5/29/2017   4/5/2019           1379   \n",
       "1            2         Ka                12/17/2017  4/27/2019            531   \n",
       "2            3      Clint                 1/30/2017  4/22/2019            317   \n",
       "\n",
       "               Segment Billing Account # Account Status  \\\n",
       "0  Marketing Segment 2          AX#93195         paying   \n",
       "1  Marketing Segment 1          AX#20438         paying   \n",
       "2  Marketing Segment 1          AX#60779         paying   \n",
       "\n",
       "  Upgraded Account Created Date Upgraded Account Cancelled Date  Total Charges  \n",
       "0                      4/2/2019                             NaN          145.6  \n",
       "1                    11/11/2018                             NaN          728.0  \n",
       "2                     3/15/2019                             NaN          277.2  "
      ]
     },
     "execution_count": 8,
     "metadata": {},
     "output_type": "execute_result"
    }
   ],
   "source": [
    "final_df = final_df.sort_values(by=['Customer ID'])\n",
    "final_df.head(3)"
   ]
  },
  {
   "cell_type": "code",
   "execution_count": 9,
   "metadata": {},
   "outputs": [
    {
     "data": {
      "text/plain": [
       "<matplotlib.axes._subplots.AxesSubplot at 0x7fb1a6a3bfd0>"
      ]
     },
     "execution_count": 9,
     "metadata": {},
     "output_type": "execute_result"
    },
    {
     "data": {
      "image/png": "[encoded data removed]",
      "text/plain": [
       "<Figure size 432x288 with 1 Axes>"
      ]
     },
     "metadata": {
      "needs_background": "light"
     },
     "output_type": "display_data"
    }
   ],
   "source": [
    "Segment_Check = pd.DataFrame()\n",
    "Segment_Check['Paying'] = final_df[final_df['Account Status'] == 'paying']['Segment'].value_counts()\n",
    "Segment_Check['Cancelled'] = final_df[final_df['Account Status'] == 'cancelled']['Segment'].value_counts()\n",
    "Segment_Check.plot.bar(title = 'Status & Segment', color= 'rb')"
   ]
  },
  {
   "cell_type": "markdown",
   "metadata": {},
   "source": [
    "So what we can take away from these visualizations is that Segment 2 by far has the most active paying users, but are those paying users providing the most total charges?"
   ]
  },
  {
   "cell_type": "code",
   "execution_count": 10,
   "metadata": {},
   "outputs": [],
   "source": [
    "df_list1 = final_df[['Customer ID', 'First Name', 'Free Account Created Date', 'Last Seen', 'Session Count', 'Segment', \n",
    "                    'Billing Account #', 'Account Status', 'Upgraded Account Created Date', \n",
    "                     'Upgraded Account Cancelled Date', 'Total Charges']]\n",
    "df_list1['Segment 1'] = (final_df['Segment'] == 'Marketing Segment 1')\n",
    "df_list2 = final_df[['Customer ID', 'First Name', 'Free Account Created Date', 'Last Seen', 'Session Count', 'Segment', \n",
    "                    'Billing Account #', 'Account Status', 'Upgraded Account Created Date', \n",
    "                     'Upgraded Account Cancelled Date', 'Total Charges']]\n",
    "df_list2['Segment 2'] = (final_df['Segment'] == 'Marketing Segment 2')\n",
    "df_list3 = final_df[['Customer ID', 'First Name', 'Free Account Created Date', 'Last Seen', 'Session Count', 'Segment', \n",
    "                    'Billing Account #', 'Account Status', 'Upgraded Account Created Date', \n",
    "                     'Upgraded Account Cancelled Date', 'Total Charges']]\n",
    "df_list3['Segment 3'] = (final_df['Segment'] == 'Marketing Segment 3')"
   ]
  },
  {
   "cell_type": "code",
   "execution_count": 11,
   "metadata": {},
   "outputs": [],
   "source": [
    "segment_1 = (df_list1.loc[df_list1['Segment 1'].isin([True])])\n",
    "segment_1['Total Charges'].count()\n",
    "segment_1_charge_amount = segment_1['Total Charges'].sum()"
   ]
  },
  {
   "cell_type": "code",
   "execution_count": 12,
   "metadata": {},
   "outputs": [],
   "source": [
    "segment_2 = (df_list2.loc[df_list2['Segment 2'].isin([True])])\n",
    "segment_2['Total Charges'].count()\n",
    "segment_2_charge_amount = segment_2['Total Charges'].sum()"
   ]
  },
  {
   "cell_type": "code",
   "execution_count": 13,
   "metadata": {},
   "outputs": [],
   "source": [
    "segment_3 = (df_list3.loc[df_list3['Segment 3'].isin([True])])\n",
    "segment_3['Total Charges'].count()\n",
    "segment_3_charge_amount = segment_3['Total Charges'].sum()"
   ]
  },
  {
   "cell_type": "code",
   "execution_count": 14,
   "metadata": {},
   "outputs": [
    {
     "name": "stdout",
     "output_type": "stream",
     "text": [
      "Marketing Segment 2    346\n",
      "Marketing Segment 3    296\n",
      "Marketing Segment 1    237\n",
      "Name: Paying, dtype: int64\n",
      "The total charges from Marketing Segment 1 are: 172857.37\n",
      "The total charges from Marketing Segment 2 are: 230341.41\n",
      "The total charges from Marketing Segment 3 are: 165500.0\n"
     ]
    }
   ],
   "source": [
    "print(str(Segment_Check['Paying']))\n",
    "print('The total charges from Marketing Segment 1 are:' + ' ' + str(segment_1_charge_amount))\n",
    "print('The total charges from Marketing Segment 2 are:' + ' ' + str(segment_2_charge_amount))\n",
    "print('The total charges from Marketing Segment 3 are:' + ' ' + str(segment_3_charge_amount))"
   ]
  },
  {
   "cell_type": "markdown",
   "metadata": {},
   "source": [
    "What we can see here is that Marketing Segment 2 has the highest total value in charges at $230,341.40, just over 33% more than the next closest marketing segment group. Marketing Segment 2 also has the most active paying users at 346, so out of total charges we can also do a quick calculation to see avg charge amount/active paying users in each segment."
   ]
  },
  {
   "cell_type": "code",
   "execution_count": 15,
   "metadata": {},
   "outputs": [
    {
     "name": "stdout",
     "output_type": "stream",
     "text": [
      "Avg charge amount per segment 1 users is: 729.3559915611814\n",
      "Avg charge amount per segment 2 users is: 665.7265895953757\n",
      "Avg charge amount per segment 3 users is: 559.1216216216217\n"
     ]
    }
   ],
   "source": [
    "marketing_1_percent = (172857.37 / 237.00)\n",
    "marketing_2_percent = (230341.40 / 346.00)\n",
    "marketing_3_percent = (165500.00 / 296.00)\n",
    "print('Avg charge amount per segment 1 users is:' + ' ' + str(marketing_1_percent))\n",
    "print('Avg charge amount per segment 2 users is:' + ' ' + str(marketing_2_percent))\n",
    "print('Avg charge amount per segment 3 users is:' + ' ' + str(marketing_3_percent))"
   ]
  },
  {
   "cell_type": "markdown",
   "metadata": {},
   "source": [
    "This is interesting to note when determining highest value users, as even though Segment 1 users only have 237 paying users, their avg total charges is $729.35 per user, making those users the highest value/segmented customers. Of this though Segment 1 isn't providing a lot of active paying users so may need to dive deeper into the performance here.\n",
    "\n",
    "I think another important piece to look into is which segments have the best retention cohort, which segment has the most sessions and finally do a check on which segment has the most active/recent users."
   ]
  },
  {
   "cell_type": "code",
   "execution_count": 16,
   "metadata": {},
   "outputs": [],
   "source": [
    "from datetime import datetime"
   ]
  },
  {
   "cell_type": "code",
   "execution_count": 17,
   "metadata": {},
   "outputs": [],
   "source": [
    "segment_1['Upgraded Account Created Date'] = pd.to_datetime(segment_1['Upgraded Account Created Date'])\n",
    "segment_1['Upgraded Account Cancelled Date'] = pd.to_datetime(segment_1['Upgraded Account Cancelled Date'])\n",
    "segment_1['DateDiff'] = segment_1['Upgraded Account Cancelled Date'] - segment_1['Upgraded Account Created Date']"
   ]
  },
  {
   "cell_type": "code",
   "execution_count": 18,
   "metadata": {},
   "outputs": [],
   "source": [
    "segment_1['Free Account Created Date'] = pd.to_datetime(segment_1['Free Account Created Date'])\n",
    "segment_1['DateDiff2'] = segment_1['Upgraded Account Created Date'] - segment_1['Free Account Created Date']"
   ]
  },
  {
   "cell_type": "code",
   "execution_count": 19,
   "metadata": {},
   "outputs": [
    {
     "name": "stdout",
     "output_type": "stream",
     "text": [
      "For cancelled users in Segment 1, avg datediff from upgrade to cancel is: 53 days 04:30:00\n",
      "For users in Segment 1, avg datediff from free to upgrade is: 81 days 03:12:45.354330\n",
      "For Segment 1, total accounts are: 254\n"
     ]
    }
   ],
   "source": [
    "print('For cancelled users in Segment 1, avg datediff from upgrade to cancel is:' + ' ' + str(segment_1['DateDiff'].mean()))\n",
    "print('For users in Segment 1, avg datediff from free to upgrade is:' + ' ' + str(segment_1['DateDiff2'].mean()))\n",
    "print('For Segment 1, total accounts are:' + ' ' + str(segment_1['DateDiff'].isnull().count()))"
   ]
  },
  {
   "cell_type": "code",
   "execution_count": 20,
   "metadata": {},
   "outputs": [],
   "source": [
    "segment_2['Upgraded Account Created Date'] = pd.to_datetime(segment_2['Upgraded Account Created Date'])\n",
    "segment_2['Upgraded Account Cancelled Date'] = pd.to_datetime(segment_2['Upgraded Account Cancelled Date'])\n",
    "segment_2['DateDiff'] = segment_2['Upgraded Account Cancelled Date'] - segment_2['Upgraded Account Created Date']"
   ]
  },
  {
   "cell_type": "code",
   "execution_count": 21,
   "metadata": {},
   "outputs": [],
   "source": [
    "segment_2['Free Account Created Date'] = pd.to_datetime(segment_2['Free Account Created Date'])\n",
    "segment_2['DateDiff2'] = segment_2['Upgraded Account Created Date'] - segment_2['Free Account Created Date']"
   ]
  },
  {
   "cell_type": "code",
   "execution_count": 22,
   "metadata": {},
   "outputs": [
    {
     "name": "stdout",
     "output_type": "stream",
     "text": [
      "For cancelled users in Segment 2, avg datediff is: 87 days 22:42:51.428571\n",
      "For users in Segment 2, avg datediff from free to upgrade is: 33 days 02:37:36.716417\n",
      "For Segment 2, total accounts are: 402\n"
     ]
    }
   ],
   "source": [
    "print('For cancelled users in Segment 2, avg datediff is:' + ' ' + str(segment_2['DateDiff'].mean()))\n",
    "print('For users in Segment 2, avg datediff from free to upgrade is:' + ' ' + str(segment_2['DateDiff2'].mean()))\n",
    "print('For Segment 2, total accounts are:' + ' ' + str(segment_2['DateDiff'].isnull().count()))"
   ]
  },
  {
   "cell_type": "code",
   "execution_count": 23,
   "metadata": {},
   "outputs": [],
   "source": [
    "segment_3['Upgraded Account Created Date'] = pd.to_datetime(segment_3['Upgraded Account Created Date'])\n",
    "segment_3['Upgraded Account Cancelled Date'] = pd.to_datetime(segment_3['Upgraded Account Cancelled Date'])\n",
    "segment_3['DateDiff'] = segment_3['Upgraded Account Cancelled Date'] - segment_3['Upgraded Account Created Date']"
   ]
  },
  {
   "cell_type": "code",
   "execution_count": 24,
   "metadata": {},
   "outputs": [],
   "source": [
    "segment_3['Free Account Created Date'] = pd.to_datetime(segment_3['Free Account Created Date'])\n",
    "segment_3['DateDiff2'] = segment_3['Upgraded Account Created Date'] - segment_3['Free Account Created Date']"
   ]
  },
  {
   "cell_type": "code",
   "execution_count": 25,
   "metadata": {},
   "outputs": [
    {
     "name": "stdout",
     "output_type": "stream",
     "text": [
      "For cancelled users in Segment 3, avg datediff is: 95 days 12:44:04.897959\n",
      "For users in Segment 3, avg datediff from free to upgrade is: 34 days 16:44:39.069767\n",
      "For Segment 3, total accounts are: 344\n"
     ]
    }
   ],
   "source": [
    "print('For cancelled users in Segment 3, avg datediff is:' + ' ' + str(segment_3['DateDiff'].mean()))\n",
    "print('For users in Segment 3, avg datediff from free to upgrade is:' + ' ' + str(segment_3['DateDiff2'].mean()))\n",
    "print('For Segment 3, total accounts are:' + ' ' + str(segment_3['DateDiff'].isnull().count()))"
   ]
  },
  {
   "cell_type": "markdown",
   "metadata": {},
   "source": [
    "What is good to note here is that Segment 3 users typically have the longest lifespan of users who do end up cancelling at an avg of 95 days between activation and cancelling, but for total active users Segment 2 is strongest at 402 users. We can also see that users in Segment 2 have the fastest upgrade time going from free to paid users in about 33 days, with Segment 3 not far behind at 34."
   ]
  },
  {
   "cell_type": "code",
   "execution_count": 26,
   "metadata": {},
   "outputs": [
    {
     "data": {
      "text/plain": [
       "Text(0.5, 0, 'Total Sessions')"
      ]
     },
     "execution_count": 26,
     "metadata": {},
     "output_type": "execute_result"
    },
    {
     "data": {
      "image/png": "[encoded data removed]",
      "text/plain": [
       "<Figure size 1080x360 with 1 Axes>"
      ]
     },
     "metadata": {
      "needs_background": "light"
     },
     "output_type": "display_data"
    }
   ],
   "source": [
    "sessions_segment = final_df.groupby(['Segment']).sum().sort_values(['Session Count'], ascending=False).reset_index()[:]\n",
    "sessions_segment['Session Count'] = sessions_segment['Session Count']\n",
    "plt.figure(figsize=(15,5)) \n",
    "graph = sns.barplot(x=sessions_segment['Session Count'], y=sessions_segment['Segment'])\n",
    "plt.title('Total Sessions/Segment', fontsize=22)\n",
    "plt.ylabel('Marketing Segment', fontsize=15)\n",
    "plt.xlabel('Total Sessions', fontsize=15)"
   ]
  },
  {
   "cell_type": "markdown",
   "metadata": {},
   "source": [
    "Like our above data would suggest prior to this, Segment 2 also has the heaviest traffic with a session count of over 175,000, and if we dig a little deeper to see how many avg sessions there are per user in each segment we can finish our data understanding off."
   ]
  },
  {
   "cell_type": "code",
   "execution_count": 27,
   "metadata": {},
   "outputs": [
    {
     "name": "stdout",
     "output_type": "stream",
     "text": [
      "Segment 1 avg total sessions is: 366.6968503937008\n",
      "Segment 2 avg total sessions is: 442.7164179104478\n",
      "Segment 3 avg total sessions is: 115.87790697674419\n"
     ]
    }
   ],
   "source": [
    "print('Segment 1 avg total sessions is:'+ ' '+str(segment_1['Session Count'].sum() / len(segment_1['Customer ID'])))\n",
    "print('Segment 2 avg total sessions is:'+ ' '+str(segment_2['Session Count'].sum() / len(segment_2['Customer ID'])))\n",
    "print('Segment 3 avg total sessions is:'+ ' '+str(segment_3['Session Count'].sum() / len(segment_3['Customer ID'])))"
   ]
  },
  {
   "cell_type": "markdown",
   "metadata": {},
   "source": [
    "On our final check here we can see that the avg total session/user in each segment also has Segment 2 as our best performing segment at 442 total sessions/user on avg."
   ]
  },
  {
   "cell_type": "markdown",
   "metadata": {},
   "source": [
    "In final I think it is safe to say that the best performing segment would be Segment 2. It has the highest total of paying users at 346, and the highest total charges at over $230k. It is second to Segment 1 for total charges avg/user, but it makes up for that difference with the total active accounts and quickest time to upgrade at 33 days avg. Segment 2 also has the highest total sessions by a long shot, and hits in an avg sessions/user at 442, and even though it ranks second for avg time between upgrade and cancel (for users that have cancelled), it only sits about 1 week on difference from the top segment.\n",
    "\n",
    "The deeper numbers though that we should look at would be cancellation rate and avg charges/user, where Segment 1 sits on top with nearly $65 more on average per user for total charges and also a much lower cancellation rate of 6.3%. \n",
    "\n",
    "If we’re strictly looking at a monetary value as key here, Segment 2 is where we would want to deem strongest, but if we’re trying to determine quality in users as a whole, efforts should be put towards Segment 1, where retention of that cohort of users is much better, but also have a higher total charge amount/user. That isn’t to take away from Segment 2 though, as Segment 2 had users upgrading faster and averaging far more sessions/user, so depending on what the team is determining as a success, for value in revenue, engagement and quicker conversion Segment 2 wins, but value in potential LTV and retention, Segment 1 wins."
   ]
  },
  {
   "cell_type": "markdown",
   "metadata": {},
   "source": [
    "# Part 2 & 3 - Facebook Ads, Success or Fail?"
   ]
  },
  {
   "cell_type": "markdown",
   "metadata": {},
   "source": [
    "I think there are a few key metrics the marketing team should look at when deeming whether or not Facebook ads turn out to work or not. There are a number of metrics to look into, but I think there are 3 major ones marketing should track.\n",
    "\n",
    "The first key metric the team should evaluate is the CAC of users through that channel. The goal is to reduce spend but continue to acquire users, but as a new channel that is yet to be determined. I think once the ad starts running and data starts filtering in, gaining a great understanding of how much spend is going into gaining new users from Facebook ads allows the team to properly allocated fundsa in that direction, if an ad runs and gains 3 new users but marketing sopent $300, maybe testing new ad formats should be done.\n",
    "\n",
    "Another metric is lead conversion rate and subscription conversion rate. How many leads are coming through Facebook ads and how many of those users end up becoming users or paid? Understanding this number will allow the team to improve on the types of users they're targeting and try to improve that conversion rate. \n",
    "\n",
    "I think a final key metric to measure ad efficiency is the click through rate. If the ad is seeing a very low click through rate then there might be issues with the copy or visuals on the ad that need to be adjusted, improving on the ctr will generally mean increased users which gives more opportunity for increased paid users."
   ]
  },
  {
   "cell_type": "markdown",
   "metadata": {},
   "source": [
    "There are so many metrics and things to track from a data perspective, but really understanding how to utilize that data for improved performance and growth is the important piece. User engagment with your platform and user flows are great indicators of how people interact with the service, and can help begin to segment down to different types of users. Tied in with this, especially for marketing on a whole, the team should track: conversion rates, ROI, generated revenue from marketing channels, Paid CAC, channel performances (SEO, SEM, Email etc), and finally CLV/LTV to understand your customers lifetime value. "
   ]
  }
 ],
 "metadata": {
  "kernelspec": {
   "display_name": "Python 3",
   "language": "python",
   "name": "python3"
  },
  "language_info": {
   "codemirror_mode": {
    "name": "ipython",
    "version": 3
   },
   "file_extension": ".py",
   "mimetype": "text/x-python",
   "name": "python",
   "nbconvert_exporter": "python",
   "pygments_lexer": "ipython3",
   "version": "3.7.6"
  }
 },
 "nbformat": 4,
 "nbformat_minor": 4
}
