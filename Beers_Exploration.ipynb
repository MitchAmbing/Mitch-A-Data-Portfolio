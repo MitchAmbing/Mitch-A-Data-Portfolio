{
 "cells": [
  {
   "cell_type": "markdown",
   "metadata": {},
   "source": [
    " # What Beer Will You Brew?\n",
    " ### A Fun Analysis of Craft Beers for Summer 2020"
   ]
  },
  {
   "cell_type": "markdown",
   "metadata": {},
   "source": [
    "![title](craftbeers.jpg)"
   ]
  },
  {
   "cell_type": "markdown",
   "metadata": {},
   "source": [
    "As a Canadian man with Scandinavian heritage, I have developed quite the palate for delicious beer! I have always had a strong affinity to some classic Canadian brews like Moosehead & Alexander Keith's, I love imports like Smithwick's, Guiness, Modelo and Holsten. But over the years I have grown very fond of some really great craft beer breweries like Amsterdam, Broadhead, and the Ontario classic Creemore. Due to this I thought it would be great to explore a craft beer dataset and build out some machine learning algorithms to see what type of brewing method will render what beer. So lets get our ingredients, start up the vats and get to brewing!"
   ]
  },
  {
   "cell_type": "code",
   "execution_count": 1,
   "metadata": {},
   "outputs": [
    {
     "name": "stdout",
     "output_type": "stream",
     "text": [
      "Populating the interactive namespace from numpy and matplotlib\n"
     ]
    }
   ],
   "source": [
    "import pandas as pd\n",
    "import numpy as np\n",
    "import seaborn as sns\n",
    "from scipy import stats\n",
    "from sklearn import model_selection, metrics, datasets, feature_selection, tree\n",
    "from collections import defaultdict\n",
    "from sklearn.preprocessing import LabelEncoder, OneHotEncoder, StandardScaler\n",
    "from sklearn.ensemble import RandomForestClassifier\n",
    "from sklearn.model_selection import train_test_split\n",
    "from sklearn.metrics import confusion_matrix\n",
    "from seaborn import pairplot, heatmap\n",
    "import matplotlib.pyplot as plt\n",
    "%pylab inline\n",
    "from warnings import simplefilter\n",
    "simplefilter(action='ignore', category=FutureWarning)"
   ]
  },
  {
   "cell_type": "code",
   "execution_count": 2,
   "metadata": {},
   "outputs": [
    {
     "data": {
      "text/html": [
       "<div>\n",
       "<style scoped>\n",
       "    .dataframe tbody tr th:only-of-type {\n",
       "        vertical-align: middle;\n",
       "    }\n",
       "\n",
       "    .dataframe tbody tr th {\n",
       "        vertical-align: top;\n",
       "    }\n",
       "\n",
       "    .dataframe thead th {\n",
       "        text-align: right;\n",
       "    }\n",
       "</style>\n",
       "<table border=\"1\" class=\"dataframe\">\n",
       "  <thead>\n",
       "    <tr style=\"text-align: right;\">\n",
       "      <th></th>\n",
       "      <th>BeerID</th>\n",
       "      <th>Name</th>\n",
       "      <th>URL</th>\n",
       "      <th>Style</th>\n",
       "      <th>StyleID</th>\n",
       "      <th>Size(L)</th>\n",
       "      <th>OG</th>\n",
       "      <th>FG</th>\n",
       "      <th>ABV</th>\n",
       "      <th>IBU</th>\n",
       "      <th>...</th>\n",
       "      <th>BoilGravity</th>\n",
       "      <th>Efficiency</th>\n",
       "      <th>MashThickness</th>\n",
       "      <th>SugarScale</th>\n",
       "      <th>BrewMethod</th>\n",
       "      <th>PitchRate</th>\n",
       "      <th>PrimaryTemp</th>\n",
       "      <th>PrimingMethod</th>\n",
       "      <th>PrimingAmount</th>\n",
       "      <th>UserId</th>\n",
       "    </tr>\n",
       "  </thead>\n",
       "  <tbody>\n",
       "    <tr>\n",
       "      <th>0</th>\n",
       "      <td>1</td>\n",
       "      <td>Vanilla Cream Ale</td>\n",
       "      <td>/homebrew/recipe/view/1633/vanilla-cream-ale</td>\n",
       "      <td>Cream Ale</td>\n",
       "      <td>45</td>\n",
       "      <td>21.77</td>\n",
       "      <td>1.055</td>\n",
       "      <td>1.013</td>\n",
       "      <td>5.48</td>\n",
       "      <td>17.65</td>\n",
       "      <td>...</td>\n",
       "      <td>1.038</td>\n",
       "      <td>70.0</td>\n",
       "      <td>NaN</td>\n",
       "      <td>Specific Gravity</td>\n",
       "      <td>All Grain</td>\n",
       "      <td>NaN</td>\n",
       "      <td>17.78</td>\n",
       "      <td>corn sugar</td>\n",
       "      <td>4.5 oz</td>\n",
       "      <td>116.0</td>\n",
       "    </tr>\n",
       "    <tr>\n",
       "      <th>1</th>\n",
       "      <td>2</td>\n",
       "      <td>Southern Tier Pumking clone</td>\n",
       "      <td>/homebrew/recipe/view/16367/southern-tier-pumk...</td>\n",
       "      <td>Holiday/Winter Special Spiced Beer</td>\n",
       "      <td>85</td>\n",
       "      <td>20.82</td>\n",
       "      <td>1.083</td>\n",
       "      <td>1.021</td>\n",
       "      <td>8.16</td>\n",
       "      <td>60.65</td>\n",
       "      <td>...</td>\n",
       "      <td>1.070</td>\n",
       "      <td>70.0</td>\n",
       "      <td>NaN</td>\n",
       "      <td>Specific Gravity</td>\n",
       "      <td>All Grain</td>\n",
       "      <td>NaN</td>\n",
       "      <td>NaN</td>\n",
       "      <td>NaN</td>\n",
       "      <td>NaN</td>\n",
       "      <td>955.0</td>\n",
       "    </tr>\n",
       "    <tr>\n",
       "      <th>2</th>\n",
       "      <td>3</td>\n",
       "      <td>Zombie Dust Clone - EXTRACT</td>\n",
       "      <td>/homebrew/recipe/view/5920/zombie-dust-clone-e...</td>\n",
       "      <td>American IPA</td>\n",
       "      <td>7</td>\n",
       "      <td>18.93</td>\n",
       "      <td>1.063</td>\n",
       "      <td>1.018</td>\n",
       "      <td>5.91</td>\n",
       "      <td>59.25</td>\n",
       "      <td>...</td>\n",
       "      <td>NaN</td>\n",
       "      <td>70.0</td>\n",
       "      <td>NaN</td>\n",
       "      <td>Specific Gravity</td>\n",
       "      <td>extract</td>\n",
       "      <td>NaN</td>\n",
       "      <td>NaN</td>\n",
       "      <td>NaN</td>\n",
       "      <td>NaN</td>\n",
       "      <td>NaN</td>\n",
       "    </tr>\n",
       "  </tbody>\n",
       "</table>\n",
       "<p>3 rows × 23 columns</p>\n",
       "</div>"
      ],
      "text/plain": [
       "   BeerID                         Name  \\\n",
       "0       1            Vanilla Cream Ale   \n",
       "1       2  Southern Tier Pumking clone   \n",
       "2       3  Zombie Dust Clone - EXTRACT   \n",
       "\n",
       "                                                 URL  \\\n",
       "0       /homebrew/recipe/view/1633/vanilla-cream-ale   \n",
       "1  /homebrew/recipe/view/16367/southern-tier-pumk...   \n",
       "2  /homebrew/recipe/view/5920/zombie-dust-clone-e...   \n",
       "\n",
       "                                Style  StyleID  Size(L)     OG     FG   ABV  \\\n",
       "0                           Cream Ale       45    21.77  1.055  1.013  5.48   \n",
       "1  Holiday/Winter Special Spiced Beer       85    20.82  1.083  1.021  8.16   \n",
       "2                        American IPA        7    18.93  1.063  1.018  5.91   \n",
       "\n",
       "     IBU  ...  BoilGravity  Efficiency  MashThickness        SugarScale  \\\n",
       "0  17.65  ...        1.038        70.0            NaN  Specific Gravity   \n",
       "1  60.65  ...        1.070        70.0            NaN  Specific Gravity   \n",
       "2  59.25  ...          NaN        70.0            NaN  Specific Gravity   \n",
       "\n",
       "   BrewMethod  PitchRate PrimaryTemp PrimingMethod  PrimingAmount  UserId  \n",
       "0   All Grain        NaN       17.78    corn sugar         4.5 oz   116.0  \n",
       "1   All Grain        NaN         NaN           NaN            NaN   955.0  \n",
       "2     extract        NaN         NaN           NaN            NaN     NaN  \n",
       "\n",
       "[3 rows x 23 columns]"
      ]
     },
     "execution_count": 2,
     "metadata": {},
     "output_type": "execute_result"
    }
   ],
   "source": [
    "craft_beers = pd.read_csv('/Users/mitchellambing/desktop/data/recipeData.csv', encoding='latin-1') \n",
    "craft_beers.head(3)"
   ]
  },
  {
   "cell_type": "code",
   "execution_count": 3,
   "metadata": {},
   "outputs": [
    {
     "data": {
      "text/plain": [
       "Index(['BeerID', 'Name', 'URL', 'Style', 'StyleID', 'Size(L)', 'OG', 'FG',\n",
       "       'ABV', 'IBU', 'Color', 'BoilSize', 'BoilTime', 'BoilGravity',\n",
       "       'Efficiency', 'MashThickness', 'SugarScale', 'BrewMethod', 'PitchRate',\n",
       "       'PrimaryTemp', 'PrimingMethod', 'PrimingAmount', 'UserId'],\n",
       "      dtype='object')"
      ]
     },
     "execution_count": 3,
     "metadata": {},
     "output_type": "execute_result"
    }
   ],
   "source": [
    "craft_beers.columns"
   ]
  },
  {
   "cell_type": "markdown",
   "metadata": {},
   "source": [
    "So as we can see we're going to be working with a lot of columns that deal with brewing, anything from Boil Time to Brew Method. To give some context and understanding to what things like ABV or IBU are, I'll provide some details here. \n",
    "\n",
    "## Column breakdowns:\n",
    "\n",
    "Name - the Brand Name of the Beer \n",
    "\n",
    "Style - the type of Beer\n",
    "\n",
    "OG - the specific gravity of wort before fermentation\n",
    "\n",
    "FG - the specific gravity of wort after fermentation \n",
    "\n",
    "ABV - the Alcohol By Volume\n",
    "\n",
    "IBU - the International Bittering Units\n",
    "\n",
    "Efficiecy - the beer mash extraction efficiency - extracting sugars from the grain during mash\n",
    "\n",
    "Color is standard: Reference Method - light to dark ex. 40 = black\n",
    "\n",
    "BoilTime - the time wort is boiled\n",
    "\n",
    "BrewMethod - the various techniques for brewing\n",
    "\n",
    "PrimaryTemp - the temperature at the fermenting stage\n",
    "\n",
    "BoilSize - the fluid at beginning of boil\n",
    "\n",
    "Additional Notes: WORT is the liquid extracted from the mashing process during the brewing of beer or whisky."
   ]
  },
  {
   "cell_type": "code",
   "execution_count": 4,
   "metadata": {},
   "outputs": [
    {
     "data": {
      "text/plain": [
       "BeerID             int64\n",
       "Name              object\n",
       "URL               object\n",
       "Style             object\n",
       "StyleID            int64\n",
       "Size(L)          float64\n",
       "OG               float64\n",
       "FG               float64\n",
       "ABV              float64\n",
       "IBU              float64\n",
       "Color            float64\n",
       "BoilSize         float64\n",
       "BoilTime           int64\n",
       "BoilGravity      float64\n",
       "Efficiency       float64\n",
       "MashThickness    float64\n",
       "SugarScale        object\n",
       "BrewMethod        object\n",
       "PitchRate        float64\n",
       "PrimaryTemp      float64\n",
       "PrimingMethod     object\n",
       "PrimingAmount     object\n",
       "UserId           float64\n",
       "dtype: object"
      ]
     },
     "execution_count": 4,
     "metadata": {},
     "output_type": "execute_result"
    }
   ],
   "source": [
    "craft_beers.dtypes"
   ]
  },
  {
   "cell_type": "markdown",
   "metadata": {},
   "source": [
    "Of this the main thing to note is we will be predicting the Style, and now we will go into some data cleansing to ensure we're all set to fit our algorithms with the best possible data. After cleaning the dataset up we may do a small bit of exploration to gaimn a biot better understanding of the beers and brewing styles."
   ]
  },
  {
   "cell_type": "code",
   "execution_count": 5,
   "metadata": {},
   "outputs": [
    {
     "data": {
      "text/plain": [
       "(73861, 23)"
      ]
     },
     "execution_count": 5,
     "metadata": {},
     "output_type": "execute_result"
    }
   ],
   "source": [
    "craft_beers.shape"
   ]
  },
  {
   "cell_type": "code",
   "execution_count": 6,
   "metadata": {},
   "outputs": [
    {
     "data": {
      "text/plain": [
       "BeerID               0\n",
       "Name                 1\n",
       "URL                  0\n",
       "Style              596\n",
       "StyleID              0\n",
       "Size(L)              0\n",
       "OG                   0\n",
       "FG                   0\n",
       "ABV                  0\n",
       "IBU                  0\n",
       "Color                0\n",
       "BoilSize             0\n",
       "BoilTime             0\n",
       "BoilGravity       2990\n",
       "Efficiency           0\n",
       "MashThickness    29864\n",
       "SugarScale           0\n",
       "BrewMethod           0\n",
       "PitchRate        39252\n",
       "PrimaryTemp      22662\n",
       "PrimingMethod    67095\n",
       "PrimingAmount    69087\n",
       "UserId           50490\n",
       "dtype: int64"
      ]
     },
     "execution_count": 6,
     "metadata": {},
     "output_type": "execute_result"
    }
   ],
   "source": [
    "craft_beers.isnull().sum()"
   ]
  },
  {
   "cell_type": "markdown",
   "metadata": {},
   "source": [
    "Right off the cuff we can see there is a few fields that we won't need, looking mainly at PrimingMethod, PrimingAmount and UserId (also URL, Name, StyleID and BeerID are irrelevant for our cleaned up data). "
   ]
  },
  {
   "cell_type": "code",
   "execution_count": 7,
   "metadata": {},
   "outputs": [],
   "source": [
    "craft_beers.drop(['Size(L)', 'StyleID', 'Name','URL', 'PrimingMethod', 'PrimingAmount', 'UserId', 'PitchRate', 'PrimaryTemp', 'MashThickness'], axis=1, inplace=True)"
   ]
  },
  {
   "cell_type": "markdown",
   "metadata": {},
   "source": [
    "I am curious to see how many unique Styles we do have in the dataset, and what names they have put in place for them."
   ]
  },
  {
   "cell_type": "code",
   "execution_count": 8,
   "metadata": {},
   "outputs": [
    {
     "name": "stdout",
     "output_type": "stream",
     "text": [
      "Style\n",
      "Altbier                   1\n",
      "Alternative Grain Beer    1\n",
      "Alternative Sugar Beer    1\n",
      "American Amber Ale        1\n",
      "American Barleywine       1\n",
      "                         ..\n",
      "Wheatwine                 1\n",
      "Wild Specialty Beer       1\n",
      "Winter Seasonal Beer      1\n",
      "Witbier                   1\n",
      "Wood-Aged Beer            1\n",
      "Name: Style, Length: 175, dtype: int64\n"
     ]
    }
   ],
   "source": [
    "craft_beers_style = craft_beers.groupby('Style')['Style'].nunique()\n",
    "print (craft_beers_style)"
   ]
  },
  {
   "cell_type": "markdown",
   "metadata": {},
   "source": [
    "Ok so this may get tricky as we do have 175 unique beer Styles here, so what I think might be best is to actually amalgamate all the like-term Styles into one generic name (eg. Alternative Grain Beer & Alternative Sugar Beer to just Alternative Beer etc). First lets explore our data a bit to see any correlation between columns."
   ]
  },
  {
   "cell_type": "code",
   "execution_count": 9,
   "metadata": {},
   "outputs": [],
   "source": [
    "craft_beers_2 = craft_beers[[\"Style\", \"OG\", \"FG\", \"ABV\", \"IBU\", \"Color\", \"BoilSize\", \"BoilTime\", \"BoilGravity\", \"Efficiency\", \"BrewMethod\"]]"
   ]
  },
  {
   "cell_type": "code",
   "execution_count": 10,
   "metadata": {},
   "outputs": [
    {
     "data": {
      "image/png": "[encoded data removed]",
      "text/plain": [
       "<Figure size 576x576 with 2 Axes>"
      ]
     },
     "metadata": {
      "needs_background": "light"
     },
     "output_type": "display_data"
    }
   ],
   "source": [
    "data = craft_beers_2\n",
    "X = data.iloc[:,0:20]\n",
    "y = data.iloc[:,-1]\n",
    "corrmat = data.corr()\n",
    "top_corr_features = corrmat.index\n",
    "plt.figure(figsize=(8,8))\n",
    "g=sns.heatmap(data[top_corr_features].corr(),annot=True,cmap=\"Greens\")"
   ]
  },
  {
   "cell_type": "markdown",
   "metadata": {},
   "source": [
    "Ok so what we can note from this is that the Boil Gravity and OG, as well as Boil Gravity and FG have a very strong correlation, and also the IBU and ABV alongside the Color and ABV have a small bit of correlation. As we do a little visualizing of what the dataset consists of, let make a chart to distinguish our top beer Styles and the % to the entire dataset of each."
   ]
  },
  {
   "cell_type": "code",
   "execution_count": 11,
   "metadata": {},
   "outputs": [
    {
     "data": {
      "text/plain": [
       "Text(0.5, 0, 'Style Popularity (%)')"
      ]
     },
     "execution_count": 11,
     "metadata": {},
     "output_type": "execute_result"
    },
    {
     "data": {
      "image/png": "[encoded data removed]",
      "text/plain": [
       "<Figure size 1080x360 with 1 Axes>"
      ]
     },
     "metadata": {
      "needs_background": "light"
     },
     "output_type": "display_data"
    }
   ],
   "source": [
    "beer_style_graph = craft_beers.groupby(['Style']).count().sort_values(['BeerID'], ascending=False).reset_index()[:10]\n",
    "beer_style_graph['BeerID'] = (beer_style_graph['BeerID'] / len(craft_beers)) * 100\n",
    "plt.figure(figsize=(15,5)) \n",
    "graph = sns.barplot(x=beer_style_graph['BeerID'], y=beer_style_graph['Style'])\n",
    "plt.title('Top 10 Beer Styles (%)', fontsize=22)\n",
    "plt.ylabel('Beer Style Name', fontsize=15)\n",
    "plt.xlabel('Style Popularity (%)', fontsize=15)"
   ]
  },
  {
   "cell_type": "markdown",
   "metadata": {},
   "source": [
    "Whats really big to note here is that almost 45% of the dataset sits within these top 10 beer Styles, this further pushes the notion that we should either amalgamte all like-term styles into these top 10, or potentially 15, or just completely snip the dataset to only include beers that fall into each of these Styles.\n",
    "\n",
    "I'd like to now remove a few more pieces of data that we may not need. After researching beer brewing and best beer results I found that having a beer with an IBU over 500 would be uncommon and extremely hoppy, I also am not looking to create the next low-calorie/low-alcohol beer so anything under a 3% ABV I will also remove, lastly anything over a 1.075 OG is considered very high so we will remove those as well.\n",
    "\n",
    "### Reference sites: \n",
    "https://firstwefeast.com/drink/hoppiest-beers-of-all-time/\n",
    "https://beerandbrewing.com/dictionary/c9EBwhgZpA/#:~:text=Original%20Gravity%20(OG)%2C%20sometimes,fermented%20from%20a%20particular%20wort"
   ]
  },
  {
   "cell_type": "code",
   "execution_count": 12,
   "metadata": {},
   "outputs": [
    {
     "data": {
      "text/plain": [
       "60350"
      ]
     },
     "execution_count": 12,
     "metadata": {},
     "output_type": "execute_result"
    }
   ],
   "source": [
    "craft_beers = craft_beers[craft_beers['IBU'] < 500] \n",
    "craft_beers = craft_beers[craft_beers['ABV'] > 3.00]\n",
    "craft_beers = craft_beers[craft_beers['OG'] < 1.075]\n",
    "len(craft_beers)"
   ]
  },
  {
   "cell_type": "markdown",
   "metadata": {},
   "source": [
    "Ok excellent we were able to remove approx. 13,000 rows of beers that we do not want to use in our models. Next we will look to remove any rows with remaining Null value fields, and begin to assess whether we should change the style names or just remove any that do not fall into our abpove predetermined top popularity beers."
   ]
  },
  {
   "cell_type": "code",
   "execution_count": 13,
   "metadata": {},
   "outputs": [
    {
     "data": {
      "text/plain": [
       "57765"
      ]
     },
     "execution_count": 13,
     "metadata": {},
     "output_type": "execute_result"
    }
   ],
   "source": [
    "craft_beers = craft_beers.dropna()\n",
    "len(craft_beers)\n",
    "# Excellent, we're now down to 57K rows after cleaning house of Null value beers"
   ]
  },
  {
   "cell_type": "code",
   "execution_count": 14,
   "metadata": {},
   "outputs": [
    {
     "data": {
      "text/plain": [
       "48.76136068553622"
      ]
     },
     "execution_count": 14,
     "metadata": {},
     "output_type": "execute_result"
    }
   ],
   "source": [
    "other_beer_style = craft_beers.groupby(['Style']).count().sort_values(['BeerID'], ascending=False).reset_index()[11:]\n",
    "other_beer_style['BeerID'] = (other_beer_style['BeerID'] / len(craft_beers)) * 100\n",
    "other_beer_style['BeerID'].sum()\n",
    "# So now we have confirmed that nearly 49% of the remaining beers do not fall under our Top 10 list"
   ]
  },
  {
   "cell_type": "code",
   "execution_count": 15,
   "metadata": {},
   "outputs": [
    {
     "data": {
      "text/plain": [
       "['California Common Beer',\n",
       " 'Oatmeal Stout',\n",
       " 'Kölsch',\n",
       " 'Weizen/Weissbier',\n",
       " 'Cream Ale',\n",
       " 'Sweet Stout',\n",
       " 'Robust Porter',\n",
       " 'English IPA',\n",
       " 'American Porter',\n",
       " 'American Wheat Beer',\n",
       " 'Extra Special/Strong Bitter (ESB)',\n",
       " 'Belgian Pale Ale',\n",
       " 'Specialty IPA: Black IPA',\n",
       " 'Strong Bitter',\n",
       " 'American Wheat or Rye Beer',\n",
       " 'Fruit Beer',\n",
       " 'Belgian Dubbel',\n",
       " 'German Pilsner (Pils)',\n",
       " 'Belgian Blond Ale',\n",
       " 'Dry Stout',\n",
       " 'Specialty IPA: Red IPA',\n",
       " 'Spice  Herb  or Vegetable Beer',\n",
       " 'Best Bitter',\n",
       " 'Vienna Lager',\n",
       " 'Brown Porter',\n",
       " 'British Brown Ale',\n",
       " 'Berliner Weisse',\n",
       " 'Imperial IPA',\n",
       " 'Experimental Beer',\n",
       " 'Oktoberfest/Märzen',\n",
       " 'Munich Helles',\n",
       " 'Märzen',\n",
       " 'Bohemian Pilsener',\n",
       " 'Special/Best/Premium Bitter',\n",
       " 'Specialty Beer',\n",
       " 'International Pale Lager',\n",
       " 'Belgian Specialty Ale',\n",
       " 'Standard/Ordinary Bitter',\n",
       " 'Specialty IPA: Rye IPA',\n",
       " 'British Golden Ale',\n",
       " 'Ordinary Bitter',\n",
       " 'Specialty IPA: White IPA',\n",
       " 'Irish Stout',\n",
       " 'Munich Dunkel',\n",
       " 'Northern English Brown',\n",
       " 'Mild',\n",
       " 'Double IPA',\n",
       " 'Foreign Extra Stout',\n",
       " 'Dark Mild',\n",
       " 'Czech Premium Pale Lager',\n",
       " 'American Lager',\n",
       " 'Schwarzbier',\n",
       " 'English Porter',\n",
       " 'Holiday/Winter Special Spiced Beer',\n",
       " 'Classic American Pilsner',\n",
       " 'Dunkles Weissbier',\n",
       " 'German Pils',\n",
       " 'Baltic Porter',\n",
       " 'Dunkelweizen',\n",
       " 'Scottish Export',\n",
       " 'California Common',\n",
       " 'British Strong Ale',\n",
       " 'Mixed-Fermentation Sour Beer',\n",
       " 'Specialty IPA: Belgian IPA',\n",
       " 'Czech Pale Lager',\n",
       " 'Gose',\n",
       " 'Old Ale',\n",
       " 'Bière de Garde',\n",
       " 'Altbier',\n",
       " 'Flanders Red Ale',\n",
       " 'Belgian Golden Strong Ale',\n",
       " 'Trappist Single',\n",
       " 'American Strong Ale',\n",
       " 'Maibock/Helles Bock',\n",
       " 'Mixed-Style Beer',\n",
       " 'Clone Beer',\n",
       " 'Winter Seasonal Beer',\n",
       " 'Premium American Lager',\n",
       " 'Other Smoked Beer',\n",
       " 'Scottish Export 80/-',\n",
       " 'Dusseldorf Altbier',\n",
       " 'Weizenbock',\n",
       " 'Traditional Bock',\n",
       " 'International Amber Lager',\n",
       " 'Southern English Brown',\n",
       " 'Roggenbier (German Rye Beer)',\n",
       " 'Specialty IPA: Brown IPA',\n",
       " 'Fruit Lambic',\n",
       " 'Common Cider',\n",
       " 'Lambic',\n",
       " 'Helles Bock',\n",
       " 'Belgian Tripel',\n",
       " 'Light American Lager',\n",
       " 'Scottish Heavy',\n",
       " 'Festbier',\n",
       " 'Gueuze',\n",
       " 'Brett Beer',\n",
       " 'Autumn Seasonal Beer',\n",
       " 'Classic Style Smoked Beer',\n",
       " 'Irish Extra Stout',\n",
       " 'Specialty Smoked Beer',\n",
       " 'North German Altbier',\n",
       " 'Straight (Unblended) Lambic',\n",
       " 'Doppelbock',\n",
       " 'Strong Scotch Ale',\n",
       " 'Australian Sparkling Ale',\n",
       " 'Specialty Fruit Beer',\n",
       " 'Dark American Lager',\n",
       " 'Belgian Dark Strong Ale',\n",
       " 'Flanders Brown Ale/Oud Bruin',\n",
       " 'Rauchbier',\n",
       " 'Dortmunder Export',\n",
       " 'Dunkles Bock',\n",
       " 'Standard American Lager',\n",
       " 'Imperial Stout',\n",
       " 'Classic Rauchbier',\n",
       " 'Scottish Light',\n",
       " 'Wild Specialty Beer',\n",
       " 'International Dark Lager',\n",
       " 'Czech Dark Lager',\n",
       " 'Roggenbier',\n",
       " 'German Helles Exportbier',\n",
       " 'Alternative Grain Beer',\n",
       " 'Fruit and Spice Beer',\n",
       " 'Czech Amber Lager',\n",
       " 'Pre-Prohibition Lager',\n",
       " 'Braggot',\n",
       " 'Tropical Stout',\n",
       " 'Oud Bruin',\n",
       " 'Scottish Heavy 70/-',\n",
       " 'Kentucky Common',\n",
       " 'Wee Heavy',\n",
       " 'Russian Imperial Stout',\n",
       " 'English Cider',\n",
       " 'Wood-Aged Beer',\n",
       " 'Dry Mead',\n",
       " 'Scottish Light 60/-',\n",
       " 'German Leichtbier',\n",
       " 'Kellerbier: Pale Kellerbier',\n",
       " 'Alternative Sugar Beer',\n",
       " 'Kellerbier: Amber Kellerbier',\n",
       " 'Other Specialty Cider or Perry',\n",
       " 'American Barleywine',\n",
       " 'Fruit Cider',\n",
       " 'Sahti',\n",
       " 'Pre-Prohibition Porter',\n",
       " 'Piwo Grodziskie',\n",
       " 'Semi-Sweet Mead',\n",
       " 'London Brown Ale',\n",
       " 'Open Category Mead',\n",
       " 'Specialty Wood-Aged Beer',\n",
       " 'Lichtenhainer',\n",
       " 'English Barleywine',\n",
       " 'Cyser (Apple Melomel)',\n",
       " 'New England Cider',\n",
       " 'Other Fruit Melomel',\n",
       " 'Metheglin',\n",
       " 'Traditional Perry',\n",
       " 'Eisbock',\n",
       " 'Apple Wine',\n",
       " 'Wheatwine',\n",
       " 'French Cider',\n",
       " 'Sweet Mead']"
      ]
     },
     "execution_count": 15,
     "metadata": {},
     "output_type": "execute_result"
    }
   ],
   "source": [
    "list(other_beer_style['Style'])"
   ]
  },
  {
   "cell_type": "markdown",
   "metadata": {},
   "source": [
    "So after reviewing the names in the list these are all quite specific brew types, I think it would be best to remove them all form our dataset and only work with our Top 10 beer styles oppossed to taking any containing IPA or Ale and categorizing those together like I previously noted might work."
   ]
  },
  {
   "cell_type": "code",
   "execution_count": 16,
   "metadata": {},
   "outputs": [
    {
     "data": {
      "text/plain": [
       "28020"
      ]
     },
     "execution_count": 16,
     "metadata": {},
     "output_type": "execute_result"
    }
   ],
   "source": [
    "craft_beers_top10 = (craft_beers.loc[craft_beers['Style'].isin(['American IPA', 'American Pale Ale', 'Saison', 'American Light Lager', \n",
    "'American Amber Ale', 'Blonde Ale', 'Imperial IPA', 'American Stout', 'Irish Red Ale', 'American Brown Ale'])])\n",
    "craft_beers = craft_beers_top10\n",
    "len(craft_beers)\n",
    "# And just like that we have got our new dataset that we will work with of cleaned data containing Top 10 Styles"
   ]
  },
  {
   "cell_type": "markdown",
   "metadata": {},
   "source": [
    "Lastly I just want to get a bit of statistical information on some key brewing pieces from the dataset to give a little more understanding of the information we are given. "
   ]
  },
  {
   "cell_type": "code",
   "execution_count": 17,
   "metadata": {},
   "outputs": [
    {
     "data": {
      "text/html": [
       "<div>\n",
       "<style scoped>\n",
       "    .dataframe tbody tr th:only-of-type {\n",
       "        vertical-align: middle;\n",
       "    }\n",
       "\n",
       "    .dataframe tbody tr th {\n",
       "        vertical-align: top;\n",
       "    }\n",
       "\n",
       "    .dataframe thead th {\n",
       "        text-align: right;\n",
       "    }\n",
       "</style>\n",
       "<table border=\"1\" class=\"dataframe\">\n",
       "  <thead>\n",
       "    <tr style=\"text-align: right;\">\n",
       "      <th></th>\n",
       "      <th>OG</th>\n",
       "      <th>FG</th>\n",
       "      <th>ABV</th>\n",
       "      <th>IBU</th>\n",
       "      <th>BoilSize</th>\n",
       "      <th>BoilTime</th>\n",
       "      <th>BoilGravity</th>\n",
       "    </tr>\n",
       "  </thead>\n",
       "  <tbody>\n",
       "    <tr>\n",
       "      <th>count</th>\n",
       "      <td>28020.000000</td>\n",
       "      <td>28020.000000</td>\n",
       "      <td>28020.000000</td>\n",
       "      <td>28020.000000</td>\n",
       "      <td>28020.000000</td>\n",
       "      <td>28020.000000</td>\n",
       "      <td>28020.000000</td>\n",
       "    </tr>\n",
       "    <tr>\n",
       "      <th>mean</th>\n",
       "      <td>1.056888</td>\n",
       "      <td>1.012645</td>\n",
       "      <td>5.810380</td>\n",
       "      <td>49.716877</td>\n",
       "      <td>46.581066</td>\n",
       "      <td>63.267024</td>\n",
       "      <td>1.050796</td>\n",
       "    </tr>\n",
       "    <tr>\n",
       "      <th>std</th>\n",
       "      <td>0.008587</td>\n",
       "      <td>0.003407</td>\n",
       "      <td>0.906789</td>\n",
       "      <td>32.925606</td>\n",
       "      <td>172.116475</td>\n",
       "      <td>11.649276</td>\n",
       "      <td>0.021990</td>\n",
       "    </tr>\n",
       "    <tr>\n",
       "      <th>min</th>\n",
       "      <td>1.027000</td>\n",
       "      <td>0.999000</td>\n",
       "      <td>3.010000</td>\n",
       "      <td>0.000000</td>\n",
       "      <td>1.000000</td>\n",
       "      <td>0.000000</td>\n",
       "      <td>1.000000</td>\n",
       "    </tr>\n",
       "    <tr>\n",
       "      <th>25%</th>\n",
       "      <td>1.051000</td>\n",
       "      <td>1.010000</td>\n",
       "      <td>5.180000</td>\n",
       "      <td>29.867500</td>\n",
       "      <td>22.000000</td>\n",
       "      <td>60.000000</td>\n",
       "      <td>1.040000</td>\n",
       "    </tr>\n",
       "    <tr>\n",
       "      <th>50%</th>\n",
       "      <td>1.057000</td>\n",
       "      <td>1.012000</td>\n",
       "      <td>5.790000</td>\n",
       "      <td>42.890000</td>\n",
       "      <td>28.000000</td>\n",
       "      <td>60.000000</td>\n",
       "      <td>1.046000</td>\n",
       "    </tr>\n",
       "    <tr>\n",
       "      <th>75%</th>\n",
       "      <td>1.063000</td>\n",
       "      <td>1.015000</td>\n",
       "      <td>6.470000</td>\n",
       "      <td>63.030000</td>\n",
       "      <td>30.000000</td>\n",
       "      <td>60.000000</td>\n",
       "      <td>1.053000</td>\n",
       "    </tr>\n",
       "    <tr>\n",
       "      <th>max</th>\n",
       "      <td>1.074000</td>\n",
       "      <td>1.032000</td>\n",
       "      <td>9.220000</td>\n",
       "      <td>491.260000</td>\n",
       "      <td>6454.130000</td>\n",
       "      <td>240.000000</td>\n",
       "      <td>1.500000</td>\n",
       "    </tr>\n",
       "  </tbody>\n",
       "</table>\n",
       "</div>"
      ],
      "text/plain": [
       "                 OG            FG           ABV           IBU      BoilSize  \\\n",
       "count  28020.000000  28020.000000  28020.000000  28020.000000  28020.000000   \n",
       "mean       1.056888      1.012645      5.810380     49.716877     46.581066   \n",
       "std        0.008587      0.003407      0.906789     32.925606    172.116475   \n",
       "min        1.027000      0.999000      3.010000      0.000000      1.000000   \n",
       "25%        1.051000      1.010000      5.180000     29.867500     22.000000   \n",
       "50%        1.057000      1.012000      5.790000     42.890000     28.000000   \n",
       "75%        1.063000      1.015000      6.470000     63.030000     30.000000   \n",
       "max        1.074000      1.032000      9.220000    491.260000   6454.130000   \n",
       "\n",
       "           BoilTime   BoilGravity  \n",
       "count  28020.000000  28020.000000  \n",
       "mean      63.267024      1.050796  \n",
       "std       11.649276      0.021990  \n",
       "min        0.000000      1.000000  \n",
       "25%       60.000000      1.040000  \n",
       "50%       60.000000      1.046000  \n",
       "75%       60.000000      1.053000  \n",
       "max      240.000000      1.500000  "
      ]
     },
     "execution_count": 17,
     "metadata": {},
     "output_type": "execute_result"
    }
   ],
   "source": [
    "craft_beers_checker = craft_beers[['OG', 'FG', 'ABV', 'IBU', 'BoilSize', 'BoilTime', 'BoilGravity']]\n",
    "craft_beers_checker.describe()"
   ]
  },
  {
   "cell_type": "code",
   "execution_count": 18,
   "metadata": {},
   "outputs": [
    {
     "data": {
      "text/html": [
       "<div>\n",
       "<style scoped>\n",
       "    .dataframe tbody tr th:only-of-type {\n",
       "        vertical-align: middle;\n",
       "    }\n",
       "\n",
       "    .dataframe tbody tr th {\n",
       "        vertical-align: top;\n",
       "    }\n",
       "\n",
       "    .dataframe thead th {\n",
       "        text-align: right;\n",
       "    }\n",
       "</style>\n",
       "<table border=\"1\" class=\"dataframe\">\n",
       "  <thead>\n",
       "    <tr style=\"text-align: right;\">\n",
       "      <th></th>\n",
       "      <th>BeerID</th>\n",
       "      <th>Style</th>\n",
       "      <th>OG</th>\n",
       "      <th>FG</th>\n",
       "      <th>ABV</th>\n",
       "      <th>IBU</th>\n",
       "      <th>Color</th>\n",
       "      <th>BoilSize</th>\n",
       "      <th>BoilTime</th>\n",
       "      <th>BoilGravity</th>\n",
       "      <th>Efficiency</th>\n",
       "      <th>SugarScale</th>\n",
       "      <th>BrewMethod</th>\n",
       "    </tr>\n",
       "  </thead>\n",
       "  <tbody>\n",
       "    <tr>\n",
       "      <th>5</th>\n",
       "      <td>6</td>\n",
       "      <td>American Pale Ale</td>\n",
       "      <td>1.055</td>\n",
       "      <td>1.013</td>\n",
       "      <td>5.58</td>\n",
       "      <td>40.12</td>\n",
       "      <td>8.0</td>\n",
       "      <td>29.34</td>\n",
       "      <td>70</td>\n",
       "      <td>1.047</td>\n",
       "      <td>79.0</td>\n",
       "      <td>Specific Gravity</td>\n",
       "      <td>All Grain</td>\n",
       "    </tr>\n",
       "  </tbody>\n",
       "</table>\n",
       "</div>"
      ],
      "text/plain": [
       "   BeerID              Style     OG     FG   ABV    IBU  Color  BoilSize  \\\n",
       "5       6  American Pale Ale  1.055  1.013  5.58  40.12    8.0     29.34   \n",
       "\n",
       "   BoilTime  BoilGravity  Efficiency        SugarScale BrewMethod  \n",
       "5        70        1.047        79.0  Specific Gravity  All Grain  "
      ]
     },
     "execution_count": 18,
     "metadata": {},
     "output_type": "execute_result"
    }
   ],
   "source": [
    "craft_beers.head(1)"
   ]
  },
  {
   "cell_type": "markdown",
   "metadata": {},
   "source": [
    "## Random Forest Algorithm"
   ]
  },
  {
   "cell_type": "code",
   "execution_count": 19,
   "metadata": {},
   "outputs": [
    {
     "name": "stdout",
     "output_type": "stream",
     "text": [
      "(22416, 9) (22416,)\n",
      "(5604, 9) (5604,)\n"
     ]
    }
   ],
   "source": [
    "X = craft_beers.iloc[:, 2:11].values\n",
    "y = craft_beers.iloc[:, 1].values\n",
    "X_train, X_test, y_train, y_test = train_test_split(X, y, test_size=0.2) #80/20 split\n",
    "print (X_train.shape, y_train.shape)\n",
    "print (X_test.shape, y_test.shape)"
   ]
  },
  {
   "cell_type": "code",
   "execution_count": 20,
   "metadata": {},
   "outputs": [],
   "source": [
    "sc_X = StandardScaler()\n",
    "X_train = sc_X.fit_transform(X_train)\n",
    "X_test = sc_X.fit_transform(X_test)"
   ]
  },
  {
   "cell_type": "code",
   "execution_count": 21,
   "metadata": {},
   "outputs": [
    {
     "data": {
      "text/plain": [
       "RandomForestClassifier(bootstrap=True, ccp_alpha=0.0, class_weight=None,\n",
       "                       criterion='entropy', max_depth=None, max_features='auto',\n",
       "                       max_leaf_nodes=None, max_samples=None,\n",
       "                       min_impurity_decrease=0.0, min_impurity_split=None,\n",
       "                       min_samples_leaf=1, min_samples_split=2,\n",
       "                       min_weight_fraction_leaf=0.0, n_estimators=7,\n",
       "                       n_jobs=None, oob_score=False, random_state=0, verbose=0,\n",
       "                       warm_start=False)"
      ]
     },
     "execution_count": 21,
     "metadata": {},
     "output_type": "execute_result"
    }
   ],
   "source": [
    "classifier = RandomForestClassifier(n_estimators = 7, criterion = 'entropy', random_state = 0)\n",
    "classifier.fit(X_train, y_train)"
   ]
  },
  {
   "cell_type": "code",
   "execution_count": 22,
   "metadata": {},
   "outputs": [
    {
     "name": "stdout",
     "output_type": "stream",
     "text": [
      "Accuracy of model: 60.6887937187723\n",
      "The importance of each feature is: [ 8.64924319  5.63982359 11.30031197 23.92212962 29.26104547  6.70988136\n",
      "  1.71198334  7.73222095  5.07336051]\n"
     ]
    }
   ],
   "source": [
    "y_pred = classifier.predict(X_test)\n",
    "print(\"Accuracy of model:\",metrics.accuracy_score(y_test, y_pred)*100)\n",
    "print(\"The importance of each feature is:\",(classifier.feature_importances_)*100)"
   ]
  },
  {
   "cell_type": "markdown",
   "metadata": {},
   "source": [
    "### Just to give a little bit better visual, I'll create a chart to show which feature is associated with what %."
   ]
  },
  {
   "cell_type": "code",
   "execution_count": 23,
   "metadata": {},
   "outputs": [],
   "source": [
    "X_col = craft_beers.iloc[:, 2:11]"
   ]
  },
  {
   "cell_type": "code",
   "execution_count": 24,
   "metadata": {},
   "outputs": [
    {
     "data": {
      "image/png": "[encoded data removed]",
      "text/plain": [
       "<Figure size 432x288 with 1 Axes>"
      ]
     },
     "metadata": {
      "needs_background": "light"
     },
     "output_type": "display_data"
    }
   ],
   "source": [
    "ft_imp_chart = pd.Series(classifier.feature_importances_, index=X_col.columns)\n",
    "ft_imp_chart.plot(kind='bar')\n",
    "plt.title('Importance Of Each Feature', fontsize=20)\n",
    "plt.ylabel('Importance To Model', fontsize=15)\n",
    "plt.xlabel('Feature Name', fontsize=15)\n",
    "plt.show()"
   ]
  },
  {
   "cell_type": "markdown",
   "metadata": {},
   "source": [
    "So we can see that BoilTime, BoilSize and Efficiency may be fairly irrelevant feature that we can cut to see how it affects our model."
   ]
  },
  {
   "cell_type": "code",
   "execution_count": 25,
   "metadata": {},
   "outputs": [],
   "source": [
    "craft_beers_2 = craft_beers[['Style','OG', 'FG', 'ABV', 'IBU','Color','BoilGravity']]"
   ]
  },
  {
   "cell_type": "code",
   "execution_count": 26,
   "metadata": {},
   "outputs": [
    {
     "data": {
      "text/html": [
       "<div>\n",
       "<style scoped>\n",
       "    .dataframe tbody tr th:only-of-type {\n",
       "        vertical-align: middle;\n",
       "    }\n",
       "\n",
       "    .dataframe tbody tr th {\n",
       "        vertical-align: top;\n",
       "    }\n",
       "\n",
       "    .dataframe thead th {\n",
       "        text-align: right;\n",
       "    }\n",
       "</style>\n",
       "<table border=\"1\" class=\"dataframe\">\n",
       "  <thead>\n",
       "    <tr style=\"text-align: right;\">\n",
       "      <th></th>\n",
       "      <th>Style</th>\n",
       "      <th>OG</th>\n",
       "      <th>FG</th>\n",
       "      <th>ABV</th>\n",
       "      <th>IBU</th>\n",
       "      <th>Color</th>\n",
       "      <th>BoilGravity</th>\n",
       "    </tr>\n",
       "  </thead>\n",
       "  <tbody>\n",
       "    <tr>\n",
       "      <th>5</th>\n",
       "      <td>American Pale Ale</td>\n",
       "      <td>1.055</td>\n",
       "      <td>1.013</td>\n",
       "      <td>5.58</td>\n",
       "      <td>40.12</td>\n",
       "      <td>8.0</td>\n",
       "      <td>1.047</td>\n",
       "    </tr>\n",
       "  </tbody>\n",
       "</table>\n",
       "</div>"
      ],
      "text/plain": [
       "               Style     OG     FG   ABV    IBU  Color  BoilGravity\n",
       "5  American Pale Ale  1.055  1.013  5.58  40.12    8.0        1.047"
      ]
     },
     "execution_count": 26,
     "metadata": {},
     "output_type": "execute_result"
    }
   ],
   "source": [
    "craft_beers_2.head(1)"
   ]
  },
  {
   "cell_type": "code",
   "execution_count": 27,
   "metadata": {},
   "outputs": [],
   "source": [
    "X = craft_beers_2.iloc[:, 1:7].values\n",
    "y = craft_beers_2.iloc[:, 0].values\n",
    "X_train, X_test, y_train, y_test = train_test_split(X, y, test_size=0.2)"
   ]
  },
  {
   "cell_type": "code",
   "execution_count": 28,
   "metadata": {},
   "outputs": [
    {
     "data": {
      "text/plain": [
       "RandomForestClassifier(bootstrap=True, ccp_alpha=0.0, class_weight=None,\n",
       "                       criterion='entropy', max_depth=None, max_features='auto',\n",
       "                       max_leaf_nodes=None, max_samples=None,\n",
       "                       min_impurity_decrease=0.0, min_impurity_split=None,\n",
       "                       min_samples_leaf=1, min_samples_split=2,\n",
       "                       min_weight_fraction_leaf=0.0, n_estimators=7,\n",
       "                       n_jobs=None, oob_score=False, random_state=0, verbose=0,\n",
       "                       warm_start=False)"
      ]
     },
     "execution_count": 28,
     "metadata": {},
     "output_type": "execute_result"
    }
   ],
   "source": [
    "sc_X = StandardScaler()\n",
    "X_train = sc_X.fit_transform(X_train)\n",
    "X_test = sc_X.fit_transform(X_test)\n",
    "\n",
    "classifier = RandomForestClassifier(n_estimators = 7, criterion = 'entropy', random_state = 0)\n",
    "classifier.fit(X_train, y_train)"
   ]
  },
  {
   "cell_type": "code",
   "execution_count": 29,
   "metadata": {},
   "outputs": [
    {
     "name": "stdout",
     "output_type": "stream",
     "text": [
      "Accuracy of model: 60.04639543183441\n",
      "The importance of each feature is: [ 9.04255396  7.02966027 14.7226849  26.74922632 32.82355338  9.63232116]\n"
     ]
    }
   ],
   "source": [
    "y_pred = classifier.predict(X_test)\n",
    "print(\"Accuracy of model:\",metrics.accuracy_score(y_test, y_pred)*100)\n",
    "print(\"The importance of each feature is:\",(classifier.feature_importances_)*100)"
   ]
  },
  {
   "cell_type": "markdown",
   "metadata": {},
   "source": [
    "Relatively the same, not anything to celebrate but 60% is better than how I initially thought the model would perform. Now lets try a different algorithm."
   ]
  },
  {
   "cell_type": "markdown",
   "metadata": {},
   "source": [
    "## Decision Tree Classifier"
   ]
  },
  {
   "cell_type": "code",
   "execution_count": 30,
   "metadata": {},
   "outputs": [],
   "source": [
    "from sklearn.tree import DecisionTreeClassifier"
   ]
  },
  {
   "cell_type": "code",
   "execution_count": 31,
   "metadata": {},
   "outputs": [],
   "source": [
    "X = craft_beers.iloc[:, 2:11].values\n",
    "y = craft_beers.iloc[:, 1].values\n",
    "\n",
    "X_train, X_test, y_train, y_test = train_test_split(X,y,test_size=0.2, random_state=0)\n",
    "\n",
    "sc_X = StandardScaler()\n",
    "X_train = sc_X.fit_transform(X_train)\n",
    "X_test = sc_X.fit_transform(X_test)"
   ]
  },
  {
   "cell_type": "code",
   "execution_count": 32,
   "metadata": {},
   "outputs": [
    {
     "name": "stdout",
     "output_type": "stream",
     "text": [
      "Accuracy of model: 50.303354746609564\n",
      "The importance of each feature is: [ 6.02815878  5.07065759 11.48050159 26.93333828 30.66003945  6.5263913\n",
      "  1.62690244  7.02223667  4.6517739 ]\n"
     ]
    }
   ],
   "source": [
    "classifier = DecisionTreeClassifier(criterion = 'entropy', random_state = 0)\n",
    "classifier.fit(X_train, y_train)\n",
    "\n",
    "y_pred = classifier.predict(X_test)\n",
    "print(\"Accuracy of model:\",metrics.accuracy_score(y_test, y_pred)*100)\n",
    "print(\"The importance of each feature is:\",(classifier.feature_importances_)*100)"
   ]
  },
  {
   "cell_type": "markdown",
   "metadata": {},
   "source": [
    "We could continue this further with an XGBoost algorith, or even convert to dummy variables for our styles to create a regression model, but for now I'm going to leave this as is. The model itself doesn't perform as poorly as I thought it would, but there is still room to improve this. A few further steps that can be taken are:\n",
    "\n",
    "1) Do a deeper dive into the features, see what correlations I haven't dove into are there and try to refine the dataset accordingly\n",
    "\n",
    "2) Try a few other models with the existing data\n",
    "\n",
    "3) Try running a k-fold cross validation to better refine our features and their use"
   ]
  },
  {
   "cell_type": "markdown",
   "metadata": {},
   "source": [
    "So after our analysis its fun to see what different fields go into brewing beer and how big of an impact they have on what style of beer is to be made. I think it'll be fun to be able to continue to explore further upon this, but first I'm going to grab myself a nice cold craft brew and braistorm on some fresh ideas for this project!"
   ]
  }
 ],
 "metadata": {
  "kernelspec": {
   "display_name": "Python 3",
   "language": "python",
   "name": "python3"
  },
  "language_info": {
   "codemirror_mode": {
    "name": "ipython",
    "version": 3
   },
   "file_extension": ".py",
   "mimetype": "text/x-python",
   "name": "python",
   "nbconvert_exporter": "python",
   "pygments_lexer": "ipython3",
   "version": "3.7.6"
  }
 },
 "nbformat": 4,
 "nbformat_minor": 4
}
