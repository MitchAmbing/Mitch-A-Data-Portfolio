{
 "cells": [
  {
   "cell_type": "markdown",
   "metadata": {},
   "source": [
    "# Fantasy Football 2020, Who Should I Draft?"
   ]
  },
  {
   "cell_type": "markdown",
   "metadata": {},
   "source": [
    "With some machine learning I am looking to use 3 years of recent historical NFL data (with Yahoo Fantasy based points and ranks), so that I should be able to better prepare myself for my 2020 NFL Fantasy Football Draft. I have long followed resources like TheScore, ESPN, NFL Network and many other sports article outlets to help me better prepare for my drafts, and in the past I would create Excel docs with multiple sheets of reference data to help me make my choices. Since I understand how to create machine learning algorithms for better predictions I am putting it all to good use to help myself walk away with 1st place bragging rights for the next calendar year. "
   ]
  },
  {
   "cell_type": "markdown",
   "metadata": {},
   "source": [
    "First I am going to import a handful of packages that I will be using and applying to our data for our predictions, visualizations and data cleansing (so that I do not need to worry about it during my coding, I'll just do a bulk import here). Do keep in mind I may over-reach a bit here as I'm not sure the extent of what algorithms or exploration that I am going to do, so I'm going with a better safe than sorry approach here."
   ]
  },
  {
   "cell_type": "code",
   "execution_count": 818,
   "metadata": {},
   "outputs": [
    {
     "name": "stdout",
     "output_type": "stream",
     "text": [
      "Populating the interactive namespace from numpy and matplotlib\n"
     ]
    }
   ],
   "source": [
    "import pandas as pd\n",
    "import numpy as np\n",
    "import seaborn as sns\n",
    "import statsmodels.formula.api as sm\n",
    "from sklearn.preprocessing import LabelEncoder, OneHotEncoder\n",
    "from sklearn.compose import ColumnTransformer\n",
    "import statsmodels.regression.linear_model as lm\n",
    "from sklearn.linear_model import LinearRegression\n",
    "from scipy import stats\n",
    "from sklearn import model_selection, metrics, datasets, feature_selection\n",
    "from collections import defaultdict\n",
    "from sklearn.model_selection import train_test_split\n",
    "from seaborn import pairplot\n",
    "import matplotlib.pyplot as plt\n",
    "%pylab inline\n",
    "import sys\n",
    "import warnings\n",
    "if not sys.warnoptions:\n",
    "    warnings.simplefilter(\"ignore\")"
   ]
  },
  {
   "cell_type": "markdown",
   "metadata": {},
   "source": [
    "There are 3 split datasets based on year; 2017, 2018 and 2019. I will only be bringing in RB, WR and TE stats to start as QBs typically aren't drafted until after round 8 in my yearly draft with my friends (exceptions usually fall to an Aaron Rodgers or the previous seasons upcoming Superstar, i.e Patty Mahomes or Lamar Jackson). Also note that I will not be pooling in DEF as those are taken in the final 2 rounds (general rule of thumb we all tend to go by). "
   ]
  },
  {
   "cell_type": "markdown",
   "metadata": {},
   "source": [
    "For reference I collected these sets from: https://www.footballdb.com/index.html"
   ]
  },
  {
   "cell_type": "code",
   "execution_count": 819,
   "metadata": {},
   "outputs": [],
   "source": [
    "df1 = pd.read_csv('/Users/mitchellambing/desktop/Portfolio Predictions/Fantasy Football 2017 Stats - RB_WR_TE.csv', encoding='latin-1',index_col=0) \n",
    "df2 = pd.read_csv('/Users/mitchellambing/desktop/Portfolio Predictions/Fantasy Football 2018 Stats - RB_WR_TE.csv', encoding='latin-1',index_col=0) \n",
    "df3 = pd.read_csv('/Users/mitchellambing/desktop/Portfolio Predictions/Fantasy Football 2019 Stats - RB_WR_TE.csv', encoding='latin-1',index_col=0) "
   ]
  },
  {
   "cell_type": "code",
   "execution_count": 820,
   "metadata": {},
   "outputs": [
    {
     "data": {
      "text/html": [
       "<div>\n",
       "<style scoped>\n",
       "    .dataframe tbody tr th:only-of-type {\n",
       "        vertical-align: middle;\n",
       "    }\n",
       "\n",
       "    .dataframe tbody tr th {\n",
       "        vertical-align: top;\n",
       "    }\n",
       "\n",
       "    .dataframe thead th {\n",
       "        text-align: right;\n",
       "    }\n",
       "</style>\n",
       "<table border=\"1\" class=\"dataframe\">\n",
       "  <thead>\n",
       "    <tr style=\"text-align: right;\">\n",
       "      <th></th>\n",
       "      <th>Player</th>\n",
       "      <th>Position</th>\n",
       "      <th>Pts*</th>\n",
       "      <th>Att</th>\n",
       "      <th>Cmp</th>\n",
       "      <th>Yds</th>\n",
       "      <th>TD</th>\n",
       "      <th>Int</th>\n",
       "      <th>2Pt</th>\n",
       "      <th>Att.1</th>\n",
       "      <th>Yds.1</th>\n",
       "      <th>TD.1</th>\n",
       "      <th>2Pt.1</th>\n",
       "      <th>Rec</th>\n",
       "      <th>Yds.2</th>\n",
       "      <th>TD.2</th>\n",
       "      <th>2Pt.2</th>\n",
       "      <th>FL</th>\n",
       "      <th>TD.3</th>\n",
       "    </tr>\n",
       "    <tr>\n",
       "      <th>Rank</th>\n",
       "      <th></th>\n",
       "      <th></th>\n",
       "      <th></th>\n",
       "      <th></th>\n",
       "      <th></th>\n",
       "      <th></th>\n",
       "      <th></th>\n",
       "      <th></th>\n",
       "      <th></th>\n",
       "      <th></th>\n",
       "      <th></th>\n",
       "      <th></th>\n",
       "      <th></th>\n",
       "      <th></th>\n",
       "      <th></th>\n",
       "      <th></th>\n",
       "      <th></th>\n",
       "      <th></th>\n",
       "      <th></th>\n",
       "    </tr>\n",
       "  </thead>\n",
       "  <tbody>\n",
       "    <tr>\n",
       "      <th>1</th>\n",
       "      <td>Christian McCaffrey</td>\n",
       "      <td>RB</td>\n",
       "      <td>340</td>\n",
       "      <td>2</td>\n",
       "      <td>0</td>\n",
       "      <td>0</td>\n",
       "      <td>0</td>\n",
       "      <td>0</td>\n",
       "      <td>0</td>\n",
       "      <td>287</td>\n",
       "      <td>1387</td>\n",
       "      <td>15</td>\n",
       "      <td>1</td>\n",
       "      <td>116</td>\n",
       "      <td>1005</td>\n",
       "      <td>4</td>\n",
       "      <td>0</td>\n",
       "      <td>0</td>\n",
       "      <td>0</td>\n",
       "    </tr>\n",
       "    <tr>\n",
       "      <th>2</th>\n",
       "      <td>Derrick Henry</td>\n",
       "      <td>RB</td>\n",
       "      <td>266</td>\n",
       "      <td>0</td>\n",
       "      <td>0</td>\n",
       "      <td>0</td>\n",
       "      <td>0</td>\n",
       "      <td>0</td>\n",
       "      <td>0</td>\n",
       "      <td>303</td>\n",
       "      <td>1540</td>\n",
       "      <td>16</td>\n",
       "      <td>0</td>\n",
       "      <td>18</td>\n",
       "      <td>206</td>\n",
       "      <td>2</td>\n",
       "      <td>0</td>\n",
       "      <td>3</td>\n",
       "      <td>0</td>\n",
       "    </tr>\n",
       "    <tr>\n",
       "      <th>3</th>\n",
       "      <td>Aaron Jones</td>\n",
       "      <td>RB</td>\n",
       "      <td>255</td>\n",
       "      <td>0</td>\n",
       "      <td>0</td>\n",
       "      <td>0</td>\n",
       "      <td>0</td>\n",
       "      <td>0</td>\n",
       "      <td>0</td>\n",
       "      <td>236</td>\n",
       "      <td>1084</td>\n",
       "      <td>16</td>\n",
       "      <td>0</td>\n",
       "      <td>49</td>\n",
       "      <td>474</td>\n",
       "      <td>3</td>\n",
       "      <td>0</td>\n",
       "      <td>2</td>\n",
       "      <td>0</td>\n",
       "    </tr>\n",
       "    <tr>\n",
       "      <th>4</th>\n",
       "      <td>Ezekiel Elliott</td>\n",
       "      <td>RB</td>\n",
       "      <td>246</td>\n",
       "      <td>0</td>\n",
       "      <td>0</td>\n",
       "      <td>0</td>\n",
       "      <td>0</td>\n",
       "      <td>0</td>\n",
       "      <td>0</td>\n",
       "      <td>301</td>\n",
       "      <td>1357</td>\n",
       "      <td>12</td>\n",
       "      <td>0</td>\n",
       "      <td>54</td>\n",
       "      <td>420</td>\n",
       "      <td>2</td>\n",
       "      <td>0</td>\n",
       "      <td>2</td>\n",
       "      <td>0</td>\n",
       "    </tr>\n",
       "    <tr>\n",
       "      <th>5</th>\n",
       "      <td>Dalvin Cook</td>\n",
       "      <td>RB</td>\n",
       "      <td>229</td>\n",
       "      <td>0</td>\n",
       "      <td>0</td>\n",
       "      <td>0</td>\n",
       "      <td>0</td>\n",
       "      <td>0</td>\n",
       "      <td>0</td>\n",
       "      <td>250</td>\n",
       "      <td>1135</td>\n",
       "      <td>13</td>\n",
       "      <td>0</td>\n",
       "      <td>53</td>\n",
       "      <td>519</td>\n",
       "      <td>0</td>\n",
       "      <td>0</td>\n",
       "      <td>2</td>\n",
       "      <td>0</td>\n",
       "    </tr>\n",
       "  </tbody>\n",
       "</table>\n",
       "</div>"
      ],
      "text/plain": [
       "                   Player Position  Pts*  Att  Cmp  Yds  TD  Int  2Pt  Att.1  \\\n",
       "Rank                                                                           \n",
       "1     Christian McCaffrey       RB   340    2    0    0   0    0    0    287   \n",
       "2           Derrick Henry       RB   266    0    0    0   0    0    0    303   \n",
       "3             Aaron Jones       RB   255    0    0    0   0    0    0    236   \n",
       "4         Ezekiel Elliott       RB   246    0    0    0   0    0    0    301   \n",
       "5             Dalvin Cook       RB   229    0    0    0   0    0    0    250   \n",
       "\n",
       "      Yds.1  TD.1  2Pt.1  Rec  Yds.2  TD.2  2Pt.2  FL  TD.3  \n",
       "Rank                                                         \n",
       "1      1387    15      1  116   1005     4      0   0     0  \n",
       "2      1540    16      0   18    206     2      0   3     0  \n",
       "3      1084    16      0   49    474     3      0   2     0  \n",
       "4      1357    12      0   54    420     2      0   2     0  \n",
       "5      1135    13      0   53    519     0      0   2     0  "
      ]
     },
     "execution_count": 820,
     "metadata": {},
     "output_type": "execute_result"
    }
   ],
   "source": [
    "df3.head()\n",
    "# df3 is our newest set, 2019 data, so this is what I'll be using as my primary source for data exploration, \n",
    "# analysis and prediction"
   ]
  },
  {
   "cell_type": "code",
   "execution_count": 821,
   "metadata": {},
   "outputs": [
    {
     "data": {
      "text/plain": [
       "Index(['Player', 'Position', 'Pts*', 'Att', 'Cmp', 'Yds', 'TD', 'Int', '2Pt',\n",
       "       'Att.1', 'Yds.1', 'TD.1', '2Pt.1', 'Rec', 'Yds.2', 'TD.2', '2Pt.2',\n",
       "       'FL', 'TD.3'],\n",
       "      dtype='object')"
      ]
     },
     "execution_count": 821,
     "metadata": {},
     "output_type": "execute_result"
    }
   ],
   "source": [
    "df3.columns"
   ]
  },
  {
   "cell_type": "code",
   "execution_count": 822,
   "metadata": {},
   "outputs": [
    {
     "data": {
      "text/plain": [
       "100"
      ]
     },
     "execution_count": 822,
     "metadata": {},
     "output_type": "execute_result"
    }
   ],
   "source": [
    "len(df3)"
   ]
  },
  {
   "cell_type": "code",
   "execution_count": 823,
   "metadata": {},
   "outputs": [
    {
     "data": {
      "text/plain": [
       "(100, 19)"
      ]
     },
     "execution_count": 823,
     "metadata": {},
     "output_type": "execute_result"
    }
   ],
   "source": [
    "df3.shape"
   ]
  },
  {
   "cell_type": "code",
   "execution_count": 824,
   "metadata": {},
   "outputs": [
    {
     "data": {
      "text/plain": [
       "Player      object\n",
       "Position    object\n",
       "Pts*         int64\n",
       "Att          int64\n",
       "Cmp          int64\n",
       "Yds          int64\n",
       "TD           int64\n",
       "Int          int64\n",
       "2Pt          int64\n",
       "Att.1        int64\n",
       "Yds.1        int64\n",
       "TD.1         int64\n",
       "2Pt.1        int64\n",
       "Rec          int64\n",
       "Yds.2        int64\n",
       "TD.2         int64\n",
       "2Pt.2        int64\n",
       "FL           int64\n",
       "TD.3         int64\n",
       "dtype: object"
      ]
     },
     "execution_count": 824,
     "metadata": {},
     "output_type": "execute_result"
    }
   ],
   "source": [
    "df3.dtypes"
   ]
  },
  {
   "cell_type": "markdown",
   "metadata": {},
   "source": [
    "Ok so its clear that we have your typical stats associated with each position, but because we're not using QBs right now all of the associated statistics for QBs will be removed (Att, Cmp etc). Alongside that I'll want to rename a handful of the remaining columns and then do a general check on the data to see how much cleaning up is required (since I already did a bit of data preprocessing in the CSVs the datasets shouldn't be too tough to work with). Another thought is that I'll need to amalgamate each season into one dataset possibly, and then distinguish each column with the associated year."
   ]
  },
  {
   "cell_type": "code",
   "execution_count": 825,
   "metadata": {},
   "outputs": [],
   "source": [
    "df1.drop(['Att', 'Cmp', 'Yds', 'TD', 'Int', '2Pt'], axis=1, inplace=True)\n",
    "df2.drop(['Att', 'Cmp', 'Yds', 'TD', 'Int', '2Pt'], axis=1, inplace=True)\n",
    "df3.drop(['Att', 'Cmp', 'Yds', 'TD', 'Int', '2Pt'], axis=1, inplace=True)"
   ]
  },
  {
   "cell_type": "code",
   "execution_count": 826,
   "metadata": {},
   "outputs": [],
   "source": [
    "df1.rename({'Pts*': 'FantasyPts17','Att.1': 'RushingAtt17','Yds.1': 'RushingYards17','TD.1': 'RushingTD17','2Pt.1': 'Rushing2Pts17','Rec': 'Receptions17',\n",
    "    'Yds.2': 'ReceivingYards17','TD.2': 'ReceivingTDs17','2Pt.2': 'Receiving2Pts17','FL': 'Fumbles17','TD.3':'FumbleTDs17'}, axis=1, inplace=True)"
   ]
  },
  {
   "cell_type": "code",
   "execution_count": 827,
   "metadata": {},
   "outputs": [],
   "source": [
    "df2.rename({'Pts*': 'FantasyPts18','Att.1': 'RushingAtt18','Yds.1': 'RushingYards18','TD.1': 'RushingTD18','2Pt.1': 'Rushing2Pts18','Rec': 'Receptions18',\n",
    "    'Yds.2': 'ReceivingYards18','TD.2': 'ReceivingTDs18','2Pt.2': 'Receiving2Pts18','FL': 'Fumbles18','TD.3':'FumbleTDs18'}, axis=1, inplace=True)"
   ]
  },
  {
   "cell_type": "code",
   "execution_count": 828,
   "metadata": {},
   "outputs": [],
   "source": [
    "df3.rename({'Pts*': 'FantasyPts19','Att.1': 'RushingAtt19','Yds.1': 'RushingYards19','TD.1': 'RushingTD19','2Pt.1': 'Rushing2Pts19','Rec': 'Receptions19',\n",
    "    'Yds.2': 'ReceivingYards19','TD.2': 'ReceivingTDs19','2Pt.2': 'Receiving2Pts19','FL': 'Fumbles19','TD.3':'FumbleTDs19'}, axis=1, inplace=True)"
   ]
  },
  {
   "cell_type": "markdown",
   "metadata": {},
   "source": [
    "Now that we've cleaned some columns up, lets create 2 more additional columns for usage and fantasy points per game so we can gain a better understanding of the correlation between the two. This concept I derived from \"fantasyfootballdatapros\"."
   ]
  },
  {
   "cell_type": "code",
   "execution_count": 829,
   "metadata": {},
   "outputs": [],
   "source": [
    "df3['Usage/GM'] = ((df3['RushingAtt19']/16) + (df3['Receptions19']/16))\n",
    "df3['Usage/GM'] = df3['Usage/GM'].apply(lambda x: round(x, 2))"
   ]
  },
  {
   "cell_type": "code",
   "execution_count": 830,
   "metadata": {},
   "outputs": [],
   "source": [
    "df3['FantasyPts/GM'] = (df3['FantasyPts19']/16)\n",
    "df3['FantasyPts/GM'] = df3['FantasyPts/GM'].apply(lambda x: round(x, 2))"
   ]
  },
  {
   "cell_type": "code",
   "execution_count": 831,
   "metadata": {},
   "outputs": [
    {
     "data": {
      "image/png": "[encoded data removed]",
      "text/plain": [
       "<Figure size 432x288 with 1 Axes>"
      ]
     },
     "metadata": {
      "needs_background": "light"
     },
     "output_type": "display_data"
    }
   ],
   "source": [
    "data = df3\n",
    "x = df3['Usage/GM']\n",
    "y = df3['FantasyPts/GM']\n",
    "plt.scatter(x, y)\n",
    "z = np.polyfit(x, y, 1)\n",
    "p = np.poly1d(z)\n",
    "plt.plot(x,p(x),\"r--\")\n",
    "plt.title('Carries & Catches to Fantasy Point Output')\n",
    "plt.xlabel('Usage/Gm')\n",
    "plt.ylabel('FantasyPts/Game')\n",
    "\n",
    "plt.show()"
   ]
  },
  {
   "cell_type": "markdown",
   "metadata": {},
   "source": [
    "Here we can now determine that one key factor that was theorized that helped determine output was usage/game, i.e the more carries and catches = more fantasy points. What is interesting is there is a large cluster between 2-8 carries+catches that range between 5-12 fantasy points/game. Might need to take a deeper dive into this and check other factors that could influence this. \n",
    "\n",
    "Next I'll compile a list of the players that fall into 3 fields that will help me determine who to target high, and sleeper picks for the late rounds. This will also yield a list of players that should probably be avoided based on last years production (until other factors come into play)."
   ]
  },
  {
   "cell_type": "code",
   "execution_count": 832,
   "metadata": {},
   "outputs": [],
   "source": [
    "df_list = df3[['Player', 'Usage/GM', 'FantasyPts/GM']]"
   ]
  },
  {
   "cell_type": "code",
   "execution_count": 833,
   "metadata": {},
   "outputs": [],
   "source": [
    "df_list['Low Use/High Production'] = (df3['Usage/GM'] < 7.00) & (df3['FantasyPts/GM'] > 7.00)\n",
    "df_list['High Use/Low Production'] =  (df3['Usage/GM'] > 8.00) & (df3['FantasyPts/GM'] < 6.00)\n",
    "df_list['High Use/High Production'] =  (df3['Usage/GM'] > 10.00) & (df3['FantasyPts/GM'] > 10.00)"
   ]
  },
  {
   "cell_type": "code",
   "execution_count": 834,
   "metadata": {},
   "outputs": [
    {
     "data": {
      "text/plain": [
       "Rank\n",
       "1     Christian McCaffrey\n",
       "2           Derrick Henry\n",
       "3             Aaron Jones\n",
       "4         Ezekiel Elliott\n",
       "5             Dalvin Cook\n",
       "7              Nick Chubb\n",
       "8             Mark Ingram\n",
       "9           Austin Ekeler\n",
       "10           Chris Carson\n",
       "12         Saquon Barkley\n",
       "13            Todd Gurley\n",
       "14              Joe Mixon\n",
       "16      Leonard Fournette\n",
       "20          Joshua Jacobs\n",
       "Name: Player, dtype: object"
      ]
     },
     "execution_count": 834,
     "metadata": {},
     "output_type": "execute_result"
    }
   ],
   "source": [
    "high_value_players = (df_list.loc[df_list['High Use/High Production'].isin([True])])\n",
    "high_value_players['Player']"
   ]
  },
  {
   "cell_type": "code",
   "execution_count": 835,
   "metadata": {},
   "outputs": [
    {
     "data": {
      "text/plain": [
       "Rank\n",
       "11         Chris Godwin\n",
       "15       Kenny Golladay\n",
       "17          Cooper Kupp\n",
       "18          Julio Jones\n",
       "19       DeVante Parker\n",
       "21           Mike Evans\n",
       "22      DeAndre Hopkins\n",
       "23         Amari Cooper\n",
       "24           A.J. Brown\n",
       "29         Travis Kelce\n",
       "30       Julian Edelman\n",
       "31       Allen Robinson\n",
       "33         Keenan Allen\n",
       "34        Tyler Lockett\n",
       "35        Jarvis Landry\n",
       "36           D.J. Chark\n",
       "37     Courtland Sutton\n",
       "39         Stefon Diggs\n",
       "40           John Brown\n",
       "41           D.J. Moore\n",
       "42       Michael Gallup\n",
       "44         Mark Andrews\n",
       "49         Robert Woods\n",
       "50       Terry McLaurin\n",
       "51        George Kittle\n",
       "53        Calvin Ridley\n",
       "54           Tyler Boyd\n",
       "55        Darren Waller\n",
       "56         Marvin Jones\n",
       "57        Davante Adams\n",
       "59         D.K. Metcalf\n",
       "60          Tyreek Hill\n",
       "61         Deebo Samuel\n",
       "62            Zach Ertz\n",
       "63    Odell Beckham Jr.\n",
       "64     Emmanuel Sanders\n",
       "65       Darius Slayton\n",
       "67           Jared Cook\n",
       "Name: Player, dtype: object"
      ]
     },
     "execution_count": 835,
     "metadata": {},
     "output_type": "execute_result"
    }
   ],
   "source": [
    "potential_sleepers = (df_list.loc[df_list['Low Use/High Production'].isin([True])])\n",
    "potential_sleepers['Player']"
   ]
  },
  {
   "cell_type": "code",
   "execution_count": 836,
   "metadata": {},
   "outputs": [
    {
     "data": {
      "text/plain": [
       "Rank\n",
       "90     Jordan Howard\n",
       "93     Peyton Barber\n",
       "96     Royce Freeman\n",
       "100     LeSean McCoy\n",
       "Name: Player, dtype: object"
      ]
     },
     "execution_count": 836,
     "metadata": {},
     "output_type": "execute_result"
    }
   ],
   "source": [
    "potential_busts = (df_list.loc[df_list['High Use/Low Production'].isin([True])])\n",
    "potential_busts['Player']"
   ]
  },
  {
   "cell_type": "markdown",
   "metadata": {},
   "source": [
    "Now that we've created these broad lists, I'd like to see is the names of players who had various pieces that could lead into a big decline in prodcution this year (or high risk high reward), which would be: RBs with less than 220 carries but more than 800 rushing yards, WRs with an average Y/R over 15.00, RBs with more than 850 rushing and 500 receiving yards, and lastly RBs with an average Y/A over 4.8. \n",
    "\n",
    "Now none of these are set in stone guides to follow, but they are great indicators to keep in mind when developing your draft board to understand who has a higher chance of being a bust based off YoY bust projections (some details taken from CBS, NBC and NFL Network draft bust projection details). "
   ]
  },
  {
   "cell_type": "markdown",
   "metadata": {},
   "source": [
    "https://www.pro-football-reference.com/years/2019/rushing.htm, \n",
    "https://www.pro-football-reference.com/years/2019/receiving.htm"
   ]
  },
  {
   "cell_type": "code",
   "execution_count": 837,
   "metadata": {},
   "outputs": [],
   "source": [
    "df3['Yards/Rec'] = ((df3['ReceivingYards19']) / (df3['Receptions19']))\n",
    "df3['Yards/Rec'] = df3['Yards/Rec'].apply(lambda x: round(x, 2))"
   ]
  },
  {
   "cell_type": "code",
   "execution_count": 838,
   "metadata": {},
   "outputs": [],
   "source": [
    "df3['Yards/Rush'] = ((df3['RushingYards19']) / (df3['RushingAtt19']))\n",
    "df3['Yards/Rush'] = df3['Yards/Rush'].apply(lambda x: round(x, 2))"
   ]
  },
  {
   "cell_type": "code",
   "execution_count": 839,
   "metadata": {},
   "outputs": [],
   "source": [
    "df_list_2 = df3[['Player', 'RushingAtt19', 'RushingYards19', 'Yards/Rec', 'Yards/Rush', 'ReceivingYards19']]"
   ]
  },
  {
   "cell_type": "code",
   "execution_count": 840,
   "metadata": {},
   "outputs": [],
   "source": [
    "df_list_2['RBs Low Carries/High Yards'] = (df3['RushingAtt19'] < 220) & (df3['RushingYards19'] > 800)\n",
    "df_list_2['WRs High Y/R'] =  (df3['Yards/Rec'] > 15.00) & (df3['Position'] == 'WR')\n",
    "df_list_2['RBS High Y/A'] =  (df3['Yards/Rush'] > 4.80) & (df3['Position'] == 'RB')\n",
    "df_list_2['RBS High Rush/High Rec'] =  (df3['RushingYards19'] > 800.00) & (df3['ReceivingYards19'] > 400.00) | (df3['RushingTD19'] > 10) & (df3['ReceivingTDs19'] > 3)"
   ]
  },
  {
   "cell_type": "markdown",
   "metadata": {},
   "source": [
    "Ok we've created our new columns, now lets check which players fall into each field!"
   ]
  },
  {
   "cell_type": "code",
   "execution_count": 841,
   "metadata": {},
   "outputs": [
    {
     "data": {
      "text/plain": [
       "Rank\n",
       "8         Mark Ingram\n",
       "12     Saquon Barkley\n",
       "25      Miles Sanders\n",
       "28       Kenyan Drake\n",
       "66    Adrian Peterson\n",
       "Name: Player, dtype: object"
      ]
     },
     "execution_count": 841,
     "metadata": {},
     "output_type": "execute_result"
    }
   ],
   "source": [
    "low_carry_high_yards = (df_list_2.loc[df_list_2['RBs Low Carries/High Yards'].isin([True])])\n",
    "low_carry_high_yards['Player']"
   ]
  },
  {
   "cell_type": "code",
   "execution_count": 842,
   "metadata": {},
   "outputs": [
    {
     "data": {
      "text/plain": [
       "Rank\n",
       "11        Chris Godwin\n",
       "15      Kenny Golladay\n",
       "19      DeVante Parker\n",
       "21          Mike Evans\n",
       "23        Amari Cooper\n",
       "24          A.J. Brown\n",
       "37    Courtland Sutton\n",
       "39        Stefon Diggs\n",
       "42      Michael Gallup\n",
       "50      Terry McLaurin\n",
       "65      Darius Slayton\n",
       "76       Mike Williams\n",
       "80        Chris Conley\n",
       "83    Breshad Perriman\n",
       "87        Randall Cobb\n",
       "89     Tyrell Williams\n",
       "97    James Washington\n",
       "Name: Player, dtype: object"
      ]
     },
     "execution_count": 842,
     "metadata": {},
     "output_type": "execute_result"
    }
   ],
   "source": [
    "high_yards_per_catch = (df_list_2.loc[df_list_2['WRs High Y/R'].isin([True])])\n",
    "high_yards_per_catch['Player']"
   ]
  },
  {
   "cell_type": "code",
   "execution_count": 843,
   "metadata": {},
   "outputs": [
    {
     "data": {
      "text/plain": [
       "Rank\n",
       "1     Christian McCaffrey\n",
       "2           Derrick Henry\n",
       "7              Nick Chubb\n",
       "8             Mark Ingram\n",
       "28           Kenyan Drake\n",
       "38         Raheem Mostert\n",
       "73       Devin Singletary\n",
       "82           Duke Johnson\n",
       "Name: Player, dtype: object"
      ]
     },
     "execution_count": 843,
     "metadata": {},
     "output_type": "execute_result"
    }
   ],
   "source": [
    "high_yards_per_run = (df_list_2.loc[df_list_2['RBS High Y/A'].isin([True])])\n",
    "high_yards_per_run['Player']"
   ]
  },
  {
   "cell_type": "code",
   "execution_count": 844,
   "metadata": {},
   "outputs": [
    {
     "data": {
      "text/plain": [
       "Rank\n",
       "1     Christian McCaffrey\n",
       "3             Aaron Jones\n",
       "4         Ezekiel Elliott\n",
       "5             Dalvin Cook\n",
       "12         Saquon Barkley\n",
       "16      Leonard Fournette\n",
       "25          Miles Sanders\n",
       "Name: Player, dtype: object"
      ]
     },
     "execution_count": 844,
     "metadata": {},
     "output_type": "execute_result"
    }
   ],
   "source": [
    "high_reward_players = (df_list_2.loc[df_list_2['RBS High Rush/High Rec'].isin([True])])\n",
    "high_reward_players['Player']"
   ]
  },
  {
   "cell_type": "markdown",
   "metadata": {},
   "source": [
    "### This is great, now we have compiled a few different sets to see which players fall into our:\n",
    "1) High Value Players\n",
    "\n",
    "2) Potential Sleepers\n",
    "\n",
    "3) Potential Busts\n",
    "\n",
    "4) Low Carry but High Yardage RBs\n",
    "\n",
    "5) High Yards/Catch WRs (used to determine further analysis for whether it is sustainable YoY)\n",
    "\n",
    "6) High Yards/Carry RBs (used to determine further analysis for whether it is sustainable YoY)\n",
    "\n",
    "7) High Reward Players (High Rushing & Receiving Yards OR at least 10 Rushing TDs and 4 Receiving TDs)\n",
    "\n",
    "This is all great preliminary work to help us distinguish the different player types for developing our draft board, and will come in very handy for determining who to select in rounds 4-6!"
   ]
  },
  {
   "cell_type": "code",
   "execution_count": 869,
   "metadata": {},
   "outputs": [],
   "source": [
    "# We'll use this next little section to do positional differences, and check impact based on position\n",
    "rb_set = df3[df3['Position'] == 'RB']\n",
    "wr_set = df3[df3['Position'] == 'WR']\n",
    "te_set = df3[df3['Position'] == 'TE']"
   ]
  },
  {
   "cell_type": "code",
   "execution_count": 846,
   "metadata": {},
   "outputs": [
    {
     "name": "stdout",
     "output_type": "stream",
     "text": [
      "The Total Fantasy Points For RBs is: 6271\n",
      "The Total RBs Contributing Are: 41\n"
     ]
    }
   ],
   "source": [
    "print ('The Total Fantasy Points For RBs is:' + ' ' + str(sum(rb_set['FantasyPts19'])))\n",
    "print ('The Total RBs Contributing Are:' + ' ' + str(len(rb_set)))"
   ]
  },
  {
   "cell_type": "code",
   "execution_count": 847,
   "metadata": {},
   "outputs": [
    {
     "name": "stdout",
     "output_type": "stream",
     "text": [
      "The Total Fantasy Points For WRs is: 6428\n",
      "The Total WRs Contributing Are: 50\n"
     ]
    }
   ],
   "source": [
    "print ('The Total Fantasy Points For WRs is:' + ' ' + str(sum(wr_set['FantasyPts19'])))\n",
    "print ('The Total WRs Contributing Are:' + ' ' + str(len(wr_set)))"
   ]
  },
  {
   "cell_type": "code",
   "execution_count": 848,
   "metadata": {},
   "outputs": [
    {
     "name": "stdout",
     "output_type": "stream",
     "text": [
      "The Total Fantasy Points For TEs is: 1110\n",
      "The Total TEs Contributing Are: 9\n"
     ]
    }
   ],
   "source": [
    "print ('The Total Fantasy Points For TEs is:' + ' ' + str(sum(te_set['FantasyPts19'])))\n",
    "print ('The Total TEs Contributing Are:' + ' ' + str(len(te_set)))"
   ]
  },
  {
   "cell_type": "code",
   "execution_count": 849,
   "metadata": {},
   "outputs": [
    {
     "name": "stdout",
     "output_type": "stream",
     "text": [
      "The Average Fantasy Points Per RB is: 152.9512195121951\n",
      "The Average Fantasy Points Per WR is: 128.56\n",
      "The Average Fantasy Points Per TE is: 123.33333333333333\n"
     ]
    }
   ],
   "source": [
    "print ('The Average Fantasy Points Per RB is:' + ' ' + str(6271/41))\n",
    "print ('The Average Fantasy Points Per WR is:' + ' ' + str(6428/50))\n",
    "print ('The Average Fantasy Points Per TE is:' + ' ' + str(1110/9))"
   ]
  },
  {
   "cell_type": "markdown",
   "metadata": {},
   "source": [
    "What is good to note here is that RBs obviously present the strongest position towards fantasy output, but whats interesting is there were 9 more WRs in the Top 100 than RBs, so for quality late round picks look for a RB2 but also keep note of any WR2's available late rounds as well (if no RB2s don't sit for a RB3, take 2+ WR2s). "
   ]
  },
  {
   "cell_type": "code",
   "execution_count": 850,
   "metadata": {},
   "outputs": [
    {
     "data": {
      "text/plain": [
       "Text(0.5, 0, 'Fantasy Points Total')"
      ]
     },
     "execution_count": 850,
     "metadata": {},
     "output_type": "execute_result"
    },
    {
     "data": {
      "image/png": "[encoded data removed]",
      "text/plain": [
       "<Figure size 864x360 with 1 Axes>"
      ]
     },
     "metadata": {
      "needs_background": "light"
     },
     "output_type": "display_data"
    }
   ],
   "source": [
    "position_breakdown = df3.groupby(['Position']).sum().sort_values(['FantasyPts19'], ascending=False).reset_index()[:3]\n",
    "position_breakdown['FantasyPts19'] = (position_breakdown['FantasyPts19'])\n",
    "plt.figure(figsize=(12,5)) \n",
    "graph = sns.barplot(x=position_breakdown['FantasyPts19'], y=position_breakdown['Position'])\n",
    "plt.title('Fantasy Point Distribution By Position (Top 100 Players 2019)', fontsize=22)\n",
    "plt.ylabel('Position', fontsize=15)\n",
    "plt.xlabel('Fantasy Points Total', fontsize=15)"
   ]
  },
  {
   "cell_type": "markdown",
   "metadata": {},
   "source": [
    "Last part here I would like to bring in the 2017 and 2018 datasets to do a YoY analysis in change of fantasy points and production. I'm going to do a 2017 to 2018 check, then a 2018 to 2019 check."
   ]
  },
  {
   "cell_type": "code",
   "execution_count": 851,
   "metadata": {},
   "outputs": [
    {
     "data": {
      "text/plain": [
       "53"
      ]
     },
     "execution_count": 851,
     "metadata": {},
     "output_type": "execute_result"
    }
   ],
   "source": [
    "df_join = pd.merge(df1, df2, how='inner', on='Player')\n",
    "len(df_join)\n",
    "# So there are 53 players who were in the Top 100 in 2017 also in the Top 100 2018"
   ]
  },
  {
   "cell_type": "code",
   "execution_count": 852,
   "metadata": {},
   "outputs": [],
   "source": [
    "df_join_plot = df_join"
   ]
  },
  {
   "cell_type": "code",
   "execution_count": 853,
   "metadata": {},
   "outputs": [
    {
     "data": {
      "image/png": "[encoded data removed]",
      "text/plain": [
       "<Figure size 2880x1800 with 1 Axes>"
      ]
     },
     "metadata": {
      "needs_background": "light"
     },
     "output_type": "display_data"
    }
   ],
   "source": [
    "pos = list(range(len(df_join_plot['FantasyPts17']))) \n",
    "width = .25\n",
    "    \n",
    "fig, ax = plt.subplots(figsize=(40,25))\n",
    "plt.bar(pos,df_join_plot['FantasyPts17'],width, alpha=0.5,color='blue', label=df_join_plot['Player'][0])\n",
    "\n",
    "plt.bar([p + width for p in pos], df_join_plot['FantasyPts18'], width, alpha=0.5, color='purple', \n",
    "        label=df_join_plot['Player'][1]) \n",
    "\n",
    "ax.set_ylabel('Total Points')\n",
    "ax.set_title('2017 v 2018 YoY Output')\n",
    "ax.set_xticks([p + 1.5 * width for p in pos])\n",
    "ax.set_xticklabels(df_join_plot['Player'])\n",
    "\n",
    "plt.xlim(min(pos)-width, max(pos)+width*4)\n",
    "plt.ylim([0, max(df_join_plot['FantasyPts17'] )] )\n",
    "plt.rcParams.update({'font.size': 5})\n",
    "plt.xticks(rotation=25)\n",
    "\n",
    "plt.legend(['FantasyPts17', 'FantasyPts18'], loc='upper right')\n",
    "plt.grid()\n",
    "plt.show()"
   ]
  },
  {
   "cell_type": "code",
   "execution_count": 854,
   "metadata": {},
   "outputs": [],
   "source": [
    "df_join_2 = pd.merge(df2, df3, how='inner', on='Player')\n",
    "df_join_plot2 = df_join_2"
   ]
  },
  {
   "cell_type": "code",
   "execution_count": 866,
   "metadata": {},
   "outputs": [
    {
     "data": {
      "image/png": "[encoded data removed]",
      "text/plain": [
       "<Figure size 2880x1800 with 1 Axes>"
      ]
     },
     "metadata": {
      "needs_background": "light"
     },
     "output_type": "display_data"
    }
   ],
   "source": [
    "pos = list(range(len(df_join_plot2['FantasyPts18']))) \n",
    "width = .25\n",
    "    \n",
    "fig, ax = plt.subplots(figsize=(40,25))\n",
    "plt.bar(pos,df_join_plot2['FantasyPts18'],width, alpha=0.5,color='green', label=df_join_plot2['Player'][0])\n",
    "\n",
    "plt.bar([p + width for p in pos], df_join_plot2['FantasyPts19'], width, alpha=0.5, color='black', \n",
    "        label=df_join_plot2['Player'][1]) \n",
    "\n",
    "ax.set_ylabel('Total Points')\n",
    "ax.set_title('2018 v 2019 YoY Output')\n",
    "ax.set_xticks([p + 1.5 * width for p in pos])\n",
    "ax.set_xticklabels(df_join_plot2['Player'])\n",
    "\n",
    "plt.xlim(min(pos)-width, max(pos)+width*4)\n",
    "plt.ylim([0, max(df_join_plot2['FantasyPts19'] )] )\n",
    "plt.rcParams.update({'font.size': 5})\n",
    "plt.xticks(rotation=25)\n",
    "\n",
    "plt.legend(['FantasyPts18', 'FantasyPts19'], loc='upper right')\n",
    "plt.grid()\n",
    "plt.show()"
   ]
  },
  {
   "cell_type": "markdown",
   "metadata": {},
   "source": [
    "Now that we have some great visualizations to see the increase and decline YoY for players, lets do as we did before and create lists based off, what I would deem, important things to note for our draft boards."
   ]
  },
  {
   "cell_type": "code",
   "execution_count": 856,
   "metadata": {},
   "outputs": [],
   "source": [
    "df_join_final = pd.merge(df1, df_join_2, how='inner', on='Player')"
   ]
  },
  {
   "cell_type": "code",
   "execution_count": 857,
   "metadata": {},
   "outputs": [
    {
     "data": {
      "text/plain": [
       "3             Mark Ingram\n",
       "5            LeSean McCoy\n",
       "6       Leonard Fournette\n",
       "8         Ezekiel Elliott\n",
       "12         Michael Thomas\n",
       "14          Jarvis Landry\n",
       "17    Christian McCaffrey\n",
       "18        Latavius Murray\n",
       "20         Robby Anderson\n",
       "25          Derrick Henry\n",
       "26            Cooper Kupp\n",
       "27           Kenyan Drake\n",
       "29           Amari Cooper\n",
       "31        Tyrell Williams\n",
       "Name: Player, dtype: object"
      ]
     },
     "execution_count": 857,
     "metadata": {},
     "output_type": "execute_result"
    }
   ],
   "source": [
    "df_join_final['Single Season Production Increase'] = (df_join_final['FantasyPts19'] > df_join_final['FantasyPts18'])\n",
    "inc_prod_1 = (df_join_final.loc[df_join_final['Single Season Production Increase'].isin([True])])\n",
    "inc_prod_1['Player']"
   ]
  },
  {
   "cell_type": "code",
   "execution_count": 870,
   "metadata": {},
   "outputs": [
    {
     "data": {
      "text/plain": [
       "8         Ezekiel Elliott\n",
       "12         Michael Thomas\n",
       "17    Christian McCaffrey\n",
       "25          Derrick Henry\n",
       "27           Kenyan Drake\n",
       "29           Amari Cooper\n",
       "Name: Player, dtype: object"
      ]
     },
     "execution_count": 870,
     "metadata": {},
     "output_type": "execute_result"
    }
   ],
   "source": [
    "df_join_final['Increased Production Each Year'] = (df_join_final['FantasyPts19'] > df_join_final['FantasyPts18']) & (df_join_final['FantasyPts18'] > df_join_final['FantasyPts17'])\n",
    "inc_prod = (df_join_final.loc[df_join_final['Increased Production Each Year'].isin([True])])\n",
    "inc_prod['Player']"
   ]
  },
  {
   "cell_type": "code",
   "execution_count": 871,
   "metadata": {},
   "outputs": [
    {
     "data": {
      "text/plain": [
       "0          Todd Gurley\n",
       "7         Keenan Allen\n",
       "9        Jordan Howard\n",
       "13    Larry Fitzgerald\n",
       "23         Golden Tate\n",
       "Name: Player, dtype: object"
      ]
     },
     "execution_count": 871,
     "metadata": {},
     "output_type": "execute_result"
    }
   ],
   "source": [
    "df_join_final['Decreased Production Each Year'] = (df_join_final['FantasyPts19'] < df_join_final['FantasyPts18']) & (df_join_final['FantasyPts18'] < df_join_final['FantasyPts17'])\n",
    "dec_prod = (df_join_final.loc[df_join_final['Decreased Production Each Year'].isin([True])])\n",
    "dec_prod['Player']"
   ]
  },
  {
   "cell_type": "markdown",
   "metadata": {},
   "source": [
    "So now we have a couple lists of players who have fully grown each year in their fantasy outputs, we'll call these High Priority Targets, and also those who have decreased each season, those will be Red Flag Players. Keep in mind players like Todd Gurley and Jordan Howard are getting second chances on new teams, but based on strictly fantasy output you'll want to make your decisions on drafting these players with this info in mind (High risk doesn't always equal High reward)."
   ]
  },
  {
   "cell_type": "markdown",
   "metadata": {},
   "source": [
    "There is a lot to digest here, but whats great is we can now see who has stayed consistant, who has continued to regress and who has continually grown their fantasy output YoY. This can be used as another piece in building our pre-draft boards for the 2020 fantasy football season."
   ]
  },
  {
   "cell_type": "markdown",
   "metadata": {},
   "source": [
    "Now that we've gained some better understanding of the data and the positional pieces to take in to consideration, lets start building our algorithm. One thing to note, above was a good dive into the data, but we can absolutely take this a step further by checking into other variables that can impact all of this, which I may do later on."
   ]
  },
  {
   "cell_type": "markdown",
   "metadata": {},
   "source": [
    "## Multiple Linear Regression Algorithm"
   ]
  },
  {
   "cell_type": "markdown",
   "metadata": {},
   "source": [
    "Now typically the algorithm will auto generate dummies, but for the sake of clear and concise breakdowns I'll do that ahead of time."
   ]
  },
  {
   "cell_type": "code",
   "execution_count": 860,
   "metadata": {},
   "outputs": [],
   "source": [
    "df3_dummies = pd.get_dummies(df3.Position, prefix='Position')\n",
    "df3_final = pd.concat([df3[['Player','FantasyPts19', 'RushingYards19', 'RushingTD19', 'ReceivingYards19', 'ReceivingTDs19']],df3_dummies],axis=1)"
   ]
  },
  {
   "cell_type": "code",
   "execution_count": 861,
   "metadata": {},
   "outputs": [
    {
     "data": {
      "text/html": [
       "<div>\n",
       "<style scoped>\n",
       "    .dataframe tbody tr th:only-of-type {\n",
       "        vertical-align: middle;\n",
       "    }\n",
       "\n",
       "    .dataframe tbody tr th {\n",
       "        vertical-align: top;\n",
       "    }\n",
       "\n",
       "    .dataframe thead th {\n",
       "        text-align: right;\n",
       "    }\n",
       "</style>\n",
       "<table border=\"1\" class=\"dataframe\">\n",
       "  <thead>\n",
       "    <tr style=\"text-align: right;\">\n",
       "      <th></th>\n",
       "      <th>Player</th>\n",
       "      <th>FantasyPts19</th>\n",
       "      <th>RushingYards19</th>\n",
       "      <th>RushingTD19</th>\n",
       "      <th>ReceivingYards19</th>\n",
       "      <th>ReceivingTDs19</th>\n",
       "      <th>Position_RB</th>\n",
       "      <th>Position_TE</th>\n",
       "      <th>Position_WR</th>\n",
       "    </tr>\n",
       "    <tr>\n",
       "      <th>Rank</th>\n",
       "      <th></th>\n",
       "      <th></th>\n",
       "      <th></th>\n",
       "      <th></th>\n",
       "      <th></th>\n",
       "      <th></th>\n",
       "      <th></th>\n",
       "      <th></th>\n",
       "      <th></th>\n",
       "    </tr>\n",
       "  </thead>\n",
       "  <tbody>\n",
       "    <tr>\n",
       "      <th>1</th>\n",
       "      <td>Christian McCaffrey</td>\n",
       "      <td>340</td>\n",
       "      <td>1387</td>\n",
       "      <td>15</td>\n",
       "      <td>1005</td>\n",
       "      <td>4</td>\n",
       "      <td>1</td>\n",
       "      <td>0</td>\n",
       "      <td>0</td>\n",
       "    </tr>\n",
       "  </tbody>\n",
       "</table>\n",
       "</div>"
      ],
      "text/plain": [
       "                   Player  FantasyPts19  RushingYards19  RushingTD19  \\\n",
       "Rank                                                                   \n",
       "1     Christian McCaffrey           340            1387           15   \n",
       "\n",
       "      ReceivingYards19  ReceivingTDs19  Position_RB  Position_TE  Position_WR  \n",
       "Rank                                                                           \n",
       "1                 1005               4            1            0            0  "
      ]
     },
     "execution_count": 861,
     "metadata": {},
     "output_type": "execute_result"
    }
   ],
   "source": [
    "df3_final.head(1)"
   ]
  },
  {
   "cell_type": "code",
   "execution_count": 862,
   "metadata": {},
   "outputs": [
    {
     "data": {
      "text/html": [
       "<table class=\"simpletable\">\n",
       "<caption>OLS Regression Results</caption>\n",
       "<tr>\n",
       "  <th>Dep. Variable:</th>      <td>FantasyPts19</td>   <th>  R-squared:         </th> <td>   0.997</td> \n",
       "</tr>\n",
       "<tr>\n",
       "  <th>Model:</th>                   <td>OLS</td>       <th>  Adj. R-squared:    </th> <td>   0.996</td> \n",
       "</tr>\n",
       "<tr>\n",
       "  <th>Method:</th>             <td>Least Squares</td>  <th>  F-statistic:       </th> <td>   4654.</td> \n",
       "</tr>\n",
       "<tr>\n",
       "  <th>Date:</th>             <td>Mon, 22 Jun 2020</td> <th>  Prob (F-statistic):</th> <td>6.15e-113</td>\n",
       "</tr>\n",
       "<tr>\n",
       "  <th>Time:</th>                 <td>21:39:08</td>     <th>  Log-Likelihood:    </th> <td> -234.23</td> \n",
       "</tr>\n",
       "<tr>\n",
       "  <th>No. Observations:</th>      <td>   100</td>      <th>  AIC:               </th> <td>   482.5</td> \n",
       "</tr>\n",
       "<tr>\n",
       "  <th>Df Residuals:</th>          <td>    93</td>      <th>  BIC:               </th> <td>   500.7</td> \n",
       "</tr>\n",
       "<tr>\n",
       "  <th>Df Model:</th>              <td>     6</td>      <th>                     </th>     <td> </td>    \n",
       "</tr>\n",
       "<tr>\n",
       "  <th>Covariance Type:</th>      <td>nonrobust</td>    <th>                     </th>     <td> </td>    \n",
       "</tr>\n",
       "</table>\n",
       "<table class=\"simpletable\">\n",
       "<tr>\n",
       "          <td></td>            <th>coef</th>     <th>std err</th>      <th>t</th>      <th>P>|t|</th>  <th>[0.025</th>    <th>0.975]</th>  \n",
       "</tr>\n",
       "<tr>\n",
       "  <th>Intercept</th>        <td>   -4.8295</td> <td>    1.456</td> <td>   -3.318</td> <td> 0.001</td> <td>   -7.720</td> <td>   -1.939</td>\n",
       "</tr>\n",
       "<tr>\n",
       "  <th>RushingYards19</th>   <td>    0.0966</td> <td>    0.002</td> <td>   55.048</td> <td> 0.000</td> <td>    0.093</td> <td>    0.100</td>\n",
       "</tr>\n",
       "<tr>\n",
       "  <th>RushingTD19</th>      <td>    6.0397</td> <td>    0.144</td> <td>   41.860</td> <td> 0.000</td> <td>    5.753</td> <td>    6.326</td>\n",
       "</tr>\n",
       "<tr>\n",
       "  <th>ReceivingYards19</th> <td>    0.0971</td> <td>    0.001</td> <td>   75.569</td> <td> 0.000</td> <td>    0.095</td> <td>    0.100</td>\n",
       "</tr>\n",
       "<tr>\n",
       "  <th>ReceivingTDs19</th>   <td>    6.1313</td> <td>    0.149</td> <td>   41.155</td> <td> 0.000</td> <td>    5.835</td> <td>    6.427</td>\n",
       "</tr>\n",
       "<tr>\n",
       "  <th>Position_RB</th>      <td>   -4.2265</td> <td>    1.594</td> <td>   -2.651</td> <td> 0.009</td> <td>   -7.393</td> <td>   -1.060</td>\n",
       "</tr>\n",
       "<tr>\n",
       "  <th>Position_WR</th>      <td>    0.7107</td> <td>    0.949</td> <td>    0.749</td> <td> 0.456</td> <td>   -1.173</td> <td>    2.594</td>\n",
       "</tr>\n",
       "</table>\n",
       "<table class=\"simpletable\">\n",
       "<tr>\n",
       "  <th>Omnibus:</th>       <td> 4.972</td> <th>  Durbin-Watson:     </th> <td>   2.227</td>\n",
       "</tr>\n",
       "<tr>\n",
       "  <th>Prob(Omnibus):</th> <td> 0.083</td> <th>  Jarque-Bera (JB):  </th> <td>   4.843</td>\n",
       "</tr>\n",
       "<tr>\n",
       "  <th>Skew:</th>          <td> 0.331</td> <th>  Prob(JB):          </th> <td>  0.0888</td>\n",
       "</tr>\n",
       "<tr>\n",
       "  <th>Kurtosis:</th>      <td> 3.850</td> <th>  Cond. No.          </th> <td>6.46e+03</td>\n",
       "</tr>\n",
       "</table><br/><br/>Warnings:<br/>[1] Standard Errors assume that the covariance matrix of the errors is correctly specified.<br/>[2] The condition number is large, 6.46e+03. This might indicate that there are<br/>strong multicollinearity or other numerical problems."
      ],
      "text/plain": [
       "<class 'statsmodels.iolib.summary.Summary'>\n",
       "\"\"\"\n",
       "                            OLS Regression Results                            \n",
       "==============================================================================\n",
       "Dep. Variable:           FantasyPts19   R-squared:                       0.997\n",
       "Model:                            OLS   Adj. R-squared:                  0.996\n",
       "Method:                 Least Squares   F-statistic:                     4654.\n",
       "Date:                Mon, 22 Jun 2020   Prob (F-statistic):          6.15e-113\n",
       "Time:                        21:39:08   Log-Likelihood:                -234.23\n",
       "No. Observations:                 100   AIC:                             482.5\n",
       "Df Residuals:                      93   BIC:                             500.7\n",
       "Df Model:                           6                                         \n",
       "Covariance Type:            nonrobust                                         \n",
       "====================================================================================\n",
       "                       coef    std err          t      P>|t|      [0.025      0.975]\n",
       "------------------------------------------------------------------------------------\n",
       "Intercept           -4.8295      1.456     -3.318      0.001      -7.720      -1.939\n",
       "RushingYards19       0.0966      0.002     55.048      0.000       0.093       0.100\n",
       "RushingTD19          6.0397      0.144     41.860      0.000       5.753       6.326\n",
       "ReceivingYards19     0.0971      0.001     75.569      0.000       0.095       0.100\n",
       "ReceivingTDs19       6.1313      0.149     41.155      0.000       5.835       6.427\n",
       "Position_RB         -4.2265      1.594     -2.651      0.009      -7.393      -1.060\n",
       "Position_WR          0.7107      0.949      0.749      0.456      -1.173       2.594\n",
       "==============================================================================\n",
       "Omnibus:                        4.972   Durbin-Watson:                   2.227\n",
       "Prob(Omnibus):                  0.083   Jarque-Bera (JB):                4.843\n",
       "Skew:                           0.331   Prob(JB):                       0.0888\n",
       "Kurtosis:                       3.850   Cond. No.                     6.46e+03\n",
       "==============================================================================\n",
       "\n",
       "Warnings:\n",
       "[1] Standard Errors assume that the covariance matrix of the errors is correctly specified.\n",
       "[2] The condition number is large, 6.46e+03. This might indicate that there are\n",
       "strong multicollinearity or other numerical problems.\n",
       "\"\"\""
      ]
     },
     "execution_count": 862,
     "metadata": {},
     "output_type": "execute_result"
    }
   ],
   "source": [
    "points_predict = sm.ols(\"FantasyPts19 ~ RushingYards19 + RushingTD19 + ReceivingYards19 + ReceivingTDs19 + Position_RB + Position_WR\", data=df3_final).fit() \n",
    "points_predict.summary()"
   ]
  },
  {
   "cell_type": "markdown",
   "metadata": {},
   "source": [
    "So we can see that WR's actually hurt the model here when breaking apart the positions, which does makes sense as the RB position (as seen in our exploratory analysis) is the strongest fantasy position. So what we could/should do is actually build out a few models strictly based on position datasets with this linear regression algorithm, but since its building a full draft board inclusive of all positions, that may actually end up being pernicious in the long haul. \n",
    "\n",
    "One thing to note, the TE position was omitted due to the slightly technical issue of multicollinearity. If all 3 categories were converted to dummy variables, then the sum of the 3 dummy variables would always be 1. If some combination of variables adds up to a constant, then there is no solution to the linear regression problem (this is only true when our regression formula includes a constant term, but for our purposes it always will). So statsmodels chooses a class to serve as a reference class"
   ]
  },
  {
   "cell_type": "code",
   "execution_count": 863,
   "metadata": {},
   "outputs": [
    {
     "data": {
      "text/html": [
       "<table class=\"simpletable\">\n",
       "<caption>OLS Regression Results</caption>\n",
       "<tr>\n",
       "  <th>Dep. Variable:</th>      <td>FantasyPts19</td>   <th>  R-squared:         </th> <td>   0.997</td> \n",
       "</tr>\n",
       "<tr>\n",
       "  <th>Model:</th>                   <td>OLS</td>       <th>  Adj. R-squared:    </th> <td>   0.996</td> \n",
       "</tr>\n",
       "<tr>\n",
       "  <th>Method:</th>             <td>Least Squares</td>  <th>  F-statistic:       </th> <td>   5611.</td> \n",
       "</tr>\n",
       "<tr>\n",
       "  <th>Date:</th>             <td>Mon, 22 Jun 2020</td> <th>  Prob (F-statistic):</th> <td>1.03e-114</td>\n",
       "</tr>\n",
       "<tr>\n",
       "  <th>Time:</th>                 <td>21:39:09</td>     <th>  Log-Likelihood:    </th> <td> -234.53</td> \n",
       "</tr>\n",
       "<tr>\n",
       "  <th>No. Observations:</th>      <td>   100</td>      <th>  AIC:               </th> <td>   481.1</td> \n",
       "</tr>\n",
       "<tr>\n",
       "  <th>Df Residuals:</th>          <td>    94</td>      <th>  BIC:               </th> <td>   496.7</td> \n",
       "</tr>\n",
       "<tr>\n",
       "  <th>Df Model:</th>              <td>     5</td>      <th>                     </th>     <td> </td>    \n",
       "</tr>\n",
       "<tr>\n",
       "  <th>Covariance Type:</th>      <td>nonrobust</td>    <th>                     </th>     <td> </td>    \n",
       "</tr>\n",
       "</table>\n",
       "<table class=\"simpletable\">\n",
       "<tr>\n",
       "          <td></td>            <th>coef</th>     <th>std err</th>      <th>t</th>      <th>P>|t|</th>  <th>[0.025</th>    <th>0.975]</th>  \n",
       "</tr>\n",
       "<tr>\n",
       "  <th>Intercept</th>        <td>   -4.2574</td> <td>    1.236</td> <td>   -3.443</td> <td> 0.001</td> <td>   -6.712</td> <td>   -1.802</td>\n",
       "</tr>\n",
       "<tr>\n",
       "  <th>RushingYards19</th>   <td>    0.0966</td> <td>    0.002</td> <td>   55.198</td> <td> 0.000</td> <td>    0.093</td> <td>    0.100</td>\n",
       "</tr>\n",
       "<tr>\n",
       "  <th>RushingTD19</th>      <td>    6.0377</td> <td>    0.144</td> <td>   41.951</td> <td> 0.000</td> <td>    5.752</td> <td>    6.323</td>\n",
       "</tr>\n",
       "<tr>\n",
       "  <th>ReceivingYards19</th> <td>    0.0972</td> <td>    0.001</td> <td>   76.002</td> <td> 0.000</td> <td>    0.095</td> <td>    0.100</td>\n",
       "</tr>\n",
       "<tr>\n",
       "  <th>ReceivingTDs19</th>   <td>    6.1253</td> <td>    0.148</td> <td>   41.271</td> <td> 0.000</td> <td>    5.831</td> <td>    6.420</td>\n",
       "</tr>\n",
       "<tr>\n",
       "  <th>Position_RB</th>      <td>   -4.8162</td> <td>    1.383</td> <td>   -3.481</td> <td> 0.001</td> <td>   -7.563</td> <td>   -2.069</td>\n",
       "</tr>\n",
       "</table>\n",
       "<table class=\"simpletable\">\n",
       "<tr>\n",
       "  <th>Omnibus:</th>       <td> 5.678</td> <th>  Durbin-Watson:     </th> <td>   2.201</td>\n",
       "</tr>\n",
       "<tr>\n",
       "  <th>Prob(Omnibus):</th> <td> 0.058</td> <th>  Jarque-Bera (JB):  </th> <td>   5.640</td>\n",
       "</tr>\n",
       "<tr>\n",
       "  <th>Skew:</th>          <td> 0.376</td> <th>  Prob(JB):          </th> <td>  0.0596</td>\n",
       "</tr>\n",
       "<tr>\n",
       "  <th>Kurtosis:</th>      <td> 3.888</td> <th>  Cond. No.          </th> <td>5.17e+03</td>\n",
       "</tr>\n",
       "</table><br/><br/>Warnings:<br/>[1] Standard Errors assume that the covariance matrix of the errors is correctly specified.<br/>[2] The condition number is large, 5.17e+03. This might indicate that there are<br/>strong multicollinearity or other numerical problems."
      ],
      "text/plain": [
       "<class 'statsmodels.iolib.summary.Summary'>\n",
       "\"\"\"\n",
       "                            OLS Regression Results                            \n",
       "==============================================================================\n",
       "Dep. Variable:           FantasyPts19   R-squared:                       0.997\n",
       "Model:                            OLS   Adj. R-squared:                  0.996\n",
       "Method:                 Least Squares   F-statistic:                     5611.\n",
       "Date:                Mon, 22 Jun 2020   Prob (F-statistic):          1.03e-114\n",
       "Time:                        21:39:09   Log-Likelihood:                -234.53\n",
       "No. Observations:                 100   AIC:                             481.1\n",
       "Df Residuals:                      94   BIC:                             496.7\n",
       "Df Model:                           5                                         \n",
       "Covariance Type:            nonrobust                                         \n",
       "====================================================================================\n",
       "                       coef    std err          t      P>|t|      [0.025      0.975]\n",
       "------------------------------------------------------------------------------------\n",
       "Intercept           -4.2574      1.236     -3.443      0.001      -6.712      -1.802\n",
       "RushingYards19       0.0966      0.002     55.198      0.000       0.093       0.100\n",
       "RushingTD19          6.0377      0.144     41.951      0.000       5.752       6.323\n",
       "ReceivingYards19     0.0972      0.001     76.002      0.000       0.095       0.100\n",
       "ReceivingTDs19       6.1253      0.148     41.271      0.000       5.831       6.420\n",
       "Position_RB         -4.8162      1.383     -3.481      0.001      -7.563      -2.069\n",
       "==============================================================================\n",
       "Omnibus:                        5.678   Durbin-Watson:                   2.201\n",
       "Prob(Omnibus):                  0.058   Jarque-Bera (JB):                5.640\n",
       "Skew:                           0.376   Prob(JB):                       0.0596\n",
       "Kurtosis:                       3.888   Cond. No.                     5.17e+03\n",
       "==============================================================================\n",
       "\n",
       "Warnings:\n",
       "[1] Standard Errors assume that the covariance matrix of the errors is correctly specified.\n",
       "[2] The condition number is large, 5.17e+03. This might indicate that there are\n",
       "strong multicollinearity or other numerical problems.\n",
       "\"\"\""
      ]
     },
     "execution_count": 863,
     "metadata": {},
     "output_type": "execute_result"
    }
   ],
   "source": [
    "points_predict = sm.ols(\"FantasyPts19 ~ RushingYards19 + RushingTD19 + ReceivingYards19 + ReceivingTDs19 + Position_RB\", data=df3_final).fit() \n",
    "points_predict.summary()"
   ]
  },
  {
   "cell_type": "code",
   "execution_count": 864,
   "metadata": {},
   "outputs": [
    {
     "data": {
      "text/html": [
       "<div>\n",
       "<style scoped>\n",
       "    .dataframe tbody tr th:only-of-type {\n",
       "        vertical-align: middle;\n",
       "    }\n",
       "\n",
       "    .dataframe tbody tr th {\n",
       "        vertical-align: top;\n",
       "    }\n",
       "\n",
       "    .dataframe thead th {\n",
       "        text-align: right;\n",
       "    }\n",
       "</style>\n",
       "<table border=\"1\" class=\"dataframe\">\n",
       "  <thead>\n",
       "    <tr style=\"text-align: right;\">\n",
       "      <th></th>\n",
       "      <th>RushingYards19</th>\n",
       "      <th>RushingTD19</th>\n",
       "      <th>ReceivingYards19</th>\n",
       "      <th>ReceivingTDs19</th>\n",
       "      <th>Position_RB</th>\n",
       "      <th>Predicted</th>\n",
       "    </tr>\n",
       "  </thead>\n",
       "  <tbody>\n",
       "    <tr>\n",
       "      <th>0</th>\n",
       "      <td>800</td>\n",
       "      <td>4</td>\n",
       "      <td>256</td>\n",
       "      <td>5</td>\n",
       "      <td>1</td>\n",
       "      <td>147.865543</td>\n",
       "    </tr>\n",
       "    <tr>\n",
       "      <th>1</th>\n",
       "      <td>1050</td>\n",
       "      <td>7</td>\n",
       "      <td>150</td>\n",
       "      <td>2</td>\n",
       "      <td>1</td>\n",
       "      <td>161.454723</td>\n",
       "    </tr>\n",
       "    <tr>\n",
       "      <th>2</th>\n",
       "      <td>250</td>\n",
       "      <td>2</td>\n",
       "      <td>680</td>\n",
       "      <td>6</td>\n",
       "      <td>0</td>\n",
       "      <td>134.797714</td>\n",
       "    </tr>\n",
       "    <tr>\n",
       "      <th>3</th>\n",
       "      <td>-8</td>\n",
       "      <td>3</td>\n",
       "      <td>700</td>\n",
       "      <td>3</td>\n",
       "      <td>0</td>\n",
       "      <td>99.478225</td>\n",
       "    </tr>\n",
       "    <tr>\n",
       "      <th>4</th>\n",
       "      <td>906</td>\n",
       "      <td>5</td>\n",
       "      <td>587</td>\n",
       "      <td>8</td>\n",
       "      <td>1</td>\n",
       "      <td>214.683008</td>\n",
       "    </tr>\n",
       "    <tr>\n",
       "      <th>5</th>\n",
       "      <td>1278</td>\n",
       "      <td>13</td>\n",
       "      <td>357</td>\n",
       "      <td>7</td>\n",
       "      <td>1</td>\n",
       "      <td>270.448186</td>\n",
       "    </tr>\n",
       "  </tbody>\n",
       "</table>\n",
       "</div>"
      ],
      "text/plain": [
       "   RushingYards19  RushingTD19  ReceivingYards19  ReceivingTDs19  Position_RB  \\\n",
       "0             800            4               256               5            1   \n",
       "1            1050            7               150               2            1   \n",
       "2             250            2               680               6            0   \n",
       "3              -8            3               700               3            0   \n",
       "4             906            5               587               8            1   \n",
       "5            1278           13               357               7            1   \n",
       "\n",
       "    Predicted  \n",
       "0  147.865543  \n",
       "1  161.454723  \n",
       "2  134.797714  \n",
       "3   99.478225  \n",
       "4  214.683008  \n",
       "5  270.448186  "
      ]
     },
     "execution_count": 864,
     "metadata": {},
     "output_type": "execute_result"
    }
   ],
   "source": [
    "fantasy_points_predictor = pd.DataFrame({'RushingYards19': [800, 1050, 250, -8, 906, 1278], 'RushingTD19': [4, 7, 2, 3, 5, 13], \n",
    "                                  'ReceivingYards19': [256, 150, 680, 700, 587, 357],'ReceivingTDs19': [5, 2, 6, 3, 8, 7]\n",
    "                                  ,'Position_RB': [1, 1, 0, 0, 1, 1]})\n",
    "fantasy_points_predictor['Predicted'] = points_predict.predict(new_fantasy_points)\n",
    "fantasy_points_predictor"
   ]
  },
  {
   "cell_type": "markdown",
   "metadata": {},
   "source": [
    "The above is just a breakdown of letting us predict new values given new or hypothetical data."
   ]
  },
  {
   "cell_type": "markdown",
   "metadata": {},
   "source": [
    "So we have created a basic algorithm to predict our fantasy point outcomes based on these factors, and with some external factors alonside machine learning to help us determine these stats (rushing yards, rushing tds, receiving yards, rec tds etc.) we can fit our model to check the predicted outcome to help us draft! Note that we can continue to better this model by fitting other features, but this is the start for this project. "
   ]
  },
  {
   "cell_type": "markdown",
   "metadata": {},
   "source": [
    "For now I am going to leave this, but I would like to take it a step further into trying a few other machine learning techniques as well as trying complete position splits for each algorithm. One last thing would be preparing a better YoY breakdown for the model, so we can see how much impact multiple years have on the output (adding in 2017 & 2018 stats for each player)."
   ]
  },
  {
   "cell_type": "code",
   "execution_count": null,
   "metadata": {},
   "outputs": [],
   "source": []
  }
 ],
 "metadata": {
  "kernelspec": {
   "display_name": "Python 3",
   "language": "python",
   "name": "python3"
  },
  "language_info": {
   "codemirror_mode": {
    "name": "ipython",
    "version": 3
   },
   "file_extension": ".py",
   "mimetype": "text/x-python",
   "name": "python",
   "nbconvert_exporter": "python",
   "pygments_lexer": "ipython3",
   "version": "3.7.6"
  }
 },
 "nbformat": 4,
 "nbformat_minor": 4
}
